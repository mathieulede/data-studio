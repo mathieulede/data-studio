{
 "cells": [
  {
   "cell_type": "code",
   "execution_count": 76,
   "metadata": {
    "collapsed": true
   },
   "outputs": [],
   "source": [
    "import pandas as pd\n",
    "import math\n",
    "import re\n",
    "import glob\n",
    "import numpy as np\n",
    "import matplotlib.pyplot as plt\n",
    "import matplotlib\n",
    "from matplotlib.dates import DateFormatter, MinuteLocator, SecondLocator\n",
    "import matplotlib.ticker as ticker\n",
    "from scipy.interpolate import spline\n",
    "from scipy.interpolate import BSpline\n",
    "%matplotlib inline\n",
    "matplotlib.rcParams['pdf.fonttype'] = 42"
   ]
  },
  {
   "cell_type": "markdown",
   "metadata": {},
   "source": [
    "## Reading in Game of Thrones' subtitles"
   ]
  },
  {
   "cell_type": "code",
   "execution_count": 521,
   "metadata": {},
   "outputs": [
    {
     "data": {
      "text/plain": [
       "['Got_s01_s07_subs/s01/1x01 - Winter is Coming.srt',\n",
       " 'Got_s01_s07_subs/s01/1x02 - The Kingsroad.srt',\n",
       " 'Got_s01_s07_subs/s01/1x03 - Lord Snow.srt',\n",
       " 'Got_s01_s07_subs/s01/1x04 - Cripples  Bastards  and Broken Things.srt',\n",
       " 'Got_s01_s07_subs/s01/1x05 - The Wolf and the Lion.srt']"
      ]
     },
     "execution_count": 521,
     "metadata": {},
     "output_type": "execute_result"
    }
   ],
   "source": [
    "filenames = glob.glob(\"Got_s01_s07_subs/*/*.srt\")\n",
    "filenames[:5]"
   ]
  },
  {
   "cell_type": "code",
   "execution_count": 522,
   "metadata": {},
   "outputs": [
    {
     "data": {
      "text/html": [
       "<div>\n",
       "<style>\n",
       "    .dataframe thead tr:only-child th {\n",
       "        text-align: right;\n",
       "    }\n",
       "\n",
       "    .dataframe thead th {\n",
       "        text-align: left;\n",
       "    }\n",
       "\n",
       "    .dataframe tbody tr th {\n",
       "        vertical-align: top;\n",
       "    }\n",
       "</style>\n",
       "<table border=\"1\" class=\"dataframe\">\n",
       "  <thead>\n",
       "    <tr style=\"text-align: right;\">\n",
       "      <th></th>\n",
       "      <th>content</th>\n",
       "      <th>episode</th>\n",
       "      <th>filename</th>\n",
       "      <th>season</th>\n",
       "      <th>title</th>\n",
       "    </tr>\n",
       "  </thead>\n",
       "  <tbody>\n",
       "    <tr>\n",
       "      <th>0</th>\n",
       "      <td>1\\n00:01:55,418 --&gt; 00:01:58,420\\nEasy, boy.\\n...</td>\n",
       "      <td>1</td>\n",
       "      <td>Got_s01_s07_subs/s01/1x01 - Winter is Coming.srt</td>\n",
       "      <td>1</td>\n",
       "      <td>Winter is Coming</td>\n",
       "    </tr>\n",
       "    <tr>\n",
       "      <th>1</th>\n",
       "      <td>﻿1\\n00:00:04,652 --&gt; 00:00:06,681\\nThere was a...</td>\n",
       "      <td>2</td>\n",
       "      <td>Got_s01_s07_subs/s01/1x02 - The Kingsroad.srt</td>\n",
       "      <td>1</td>\n",
       "      <td>The Kingsroad</td>\n",
       "    </tr>\n",
       "    <tr>\n",
       "      <th>2</th>\n",
       "      <td>﻿1\\n00:00:00,727 --&gt; 00:00:02,930\\nStill not f...</td>\n",
       "      <td>3</td>\n",
       "      <td>Got_s01_s07_subs/s01/1x03 - Lord Snow.srt</td>\n",
       "      <td>1</td>\n",
       "      <td>Lord Snow</td>\n",
       "    </tr>\n",
       "  </tbody>\n",
       "</table>\n",
       "</div>"
      ],
      "text/plain": [
       "                                             content  episode  \\\n",
       "0  1\\n00:01:55,418 --> 00:01:58,420\\nEasy, boy.\\n...        1   \n",
       "1  ﻿1\\n00:00:04,652 --> 00:00:06,681\\nThere was a...        2   \n",
       "2  ﻿1\\n00:00:00,727 --> 00:00:02,930\\nStill not f...        3   \n",
       "\n",
       "                                           filename  season             title  \n",
       "0  Got_s01_s07_subs/s01/1x01 - Winter is Coming.srt       1  Winter is Coming  \n",
       "1     Got_s01_s07_subs/s01/1x02 - The Kingsroad.srt       1     The Kingsroad  \n",
       "2         Got_s01_s07_subs/s01/1x03 - Lord Snow.srt       1         Lord Snow  "
      ]
     },
     "execution_count": 522,
     "metadata": {},
     "output_type": "execute_result"
    }
   ],
   "source": [
    "got_episodes = []\n",
    "\n",
    "for filename in filenames:\n",
    "    got_episodes.append({\n",
    "        'content': open(filename).read(),\n",
    "        'filename': filename,\n",
    "        'title': re.search(r'(?<=- ).*(?=\\.)', filename)[0],\n",
    "        'season': int(re.search(r'\\d(?=x)', filename)[0]),\n",
    "        'episode': int(re.search(r'(?<=x)\\d\\d', filename)[0])\n",
    "    })\n",
    "\n",
    "got_episodes_df = pd.DataFrame(got_episodes)\n",
    "got_episodes_df.head(3)"
   ]
  },
  {
   "cell_type": "markdown",
   "metadata": {},
   "source": [
    "## Reading in Game of Thrones' episodes length"
   ]
  },
  {
   "cell_type": "code",
   "execution_count": 523,
   "metadata": {},
   "outputs": [
    {
     "data": {
      "text/html": [
       "<div>\n",
       "<style>\n",
       "    .dataframe thead tr:only-child th {\n",
       "        text-align: right;\n",
       "    }\n",
       "\n",
       "    .dataframe thead th {\n",
       "        text-align: left;\n",
       "    }\n",
       "\n",
       "    .dataframe tbody tr th {\n",
       "        vertical-align: top;\n",
       "    }\n",
       "</style>\n",
       "<table border=\"1\" class=\"dataframe\">\n",
       "  <thead>\n",
       "    <tr style=\"text-align: right;\">\n",
       "      <th></th>\n",
       "      <th>Season</th>\n",
       "      <th>Episode</th>\n",
       "      <th>Length</th>\n",
       "    </tr>\n",
       "  </thead>\n",
       "  <tbody>\n",
       "    <tr>\n",
       "      <th>0</th>\n",
       "      <td>1</td>\n",
       "      <td>1</td>\n",
       "      <td>61</td>\n",
       "    </tr>\n",
       "    <tr>\n",
       "      <th>1</th>\n",
       "      <td>1</td>\n",
       "      <td>2</td>\n",
       "      <td>55</td>\n",
       "    </tr>\n",
       "    <tr>\n",
       "      <th>2</th>\n",
       "      <td>1</td>\n",
       "      <td>3</td>\n",
       "      <td>57</td>\n",
       "    </tr>\n",
       "    <tr>\n",
       "      <th>3</th>\n",
       "      <td>1</td>\n",
       "      <td>4</td>\n",
       "      <td>55</td>\n",
       "    </tr>\n",
       "    <tr>\n",
       "      <th>4</th>\n",
       "      <td>1</td>\n",
       "      <td>5</td>\n",
       "      <td>54</td>\n",
       "    </tr>\n",
       "  </tbody>\n",
       "</table>\n",
       "</div>"
      ],
      "text/plain": [
       "   Season  Episode  Length\n",
       "0       1        1      61\n",
       "1       1        2      55\n",
       "2       1        3      57\n",
       "3       1        4      55\n",
       "4       1        5      54"
      ]
     },
     "execution_count": 523,
     "metadata": {},
     "output_type": "execute_result"
    }
   ],
   "source": [
    "got_len = pd.read_csv('episodes_length.csv')\n",
    "got_len.head()"
   ]
  },
  {
   "cell_type": "markdown",
   "metadata": {},
   "source": [
    "## Extract the dialogues timestamps"
   ]
  },
  {
   "cell_type": "code",
   "execution_count": 524,
   "metadata": {
    "collapsed": true
   },
   "outputs": [],
   "source": [
    "dialogues_refined = []\n",
    "\n",
    "for index, episode in got_episodes_df.iterrows():\n",
    "    for dialogue in re.compile(\"\\n\\n\").split(episode['content']):\n",
    "        if len(re.findall('font color', dialogue)) == 0:\n",
    "            for time in re.findall('(\\d\\d:\\d\\d:\\d\\d,\\d\\d\\d) --> (\\d\\d:\\d\\d:\\d\\d,\\d\\d\\d)', dialogue):\n",
    "                dialogues_refined.append({\n",
    "                    'start': pd.to_datetime(time[0] + '000', format='%H:%M:%S,%f'),\n",
    "                    'end': pd.to_datetime(time[1] + '000', format='%H:%M:%S,%f'),\n",
    "                    'episode': episode['episode'],\n",
    "                    'season': episode['season'],\n",
    "                    'title': episode['title'],\n",
    "                })\n",
    "                \n",
    "dialogues_refined = pd.DataFrame(dialogues_refined)"
   ]
  },
  {
   "cell_type": "code",
   "execution_count": 525,
   "metadata": {},
   "outputs": [
    {
     "data": {
      "text/html": [
       "<div>\n",
       "<style>\n",
       "    .dataframe thead tr:only-child th {\n",
       "        text-align: right;\n",
       "    }\n",
       "\n",
       "    .dataframe thead th {\n",
       "        text-align: left;\n",
       "    }\n",
       "\n",
       "    .dataframe tbody tr th {\n",
       "        vertical-align: top;\n",
       "    }\n",
       "</style>\n",
       "<table border=\"1\" class=\"dataframe\">\n",
       "  <thead>\n",
       "    <tr style=\"text-align: right;\">\n",
       "      <th></th>\n",
       "      <th>end</th>\n",
       "      <th>episode</th>\n",
       "      <th>season</th>\n",
       "      <th>start</th>\n",
       "      <th>title</th>\n",
       "    </tr>\n",
       "  </thead>\n",
       "  <tbody>\n",
       "    <tr>\n",
       "      <th>0</th>\n",
       "      <td>1900-01-01 00:01:58.420</td>\n",
       "      <td>1</td>\n",
       "      <td>1</td>\n",
       "      <td>1900-01-01 00:01:55.418</td>\n",
       "      <td>Winter is Coming</td>\n",
       "    </tr>\n",
       "    <tr>\n",
       "      <th>1</th>\n",
       "      <td>1900-01-01 00:02:56.881</td>\n",
       "      <td>1</td>\n",
       "      <td>1</td>\n",
       "      <td>1900-01-01 00:02:55.047</td>\n",
       "      <td>Winter is Coming</td>\n",
       "    </tr>\n",
       "    <tr>\n",
       "      <th>2</th>\n",
       "      <td>1900-01-01 00:03:13.331</td>\n",
       "      <td>1</td>\n",
       "      <td>1</td>\n",
       "      <td>1900-01-01 00:03:11.162</td>\n",
       "      <td>Winter is Coming</td>\n",
       "    </tr>\n",
       "    <tr>\n",
       "      <th>3</th>\n",
       "      <td>1900-01-01 00:03:15.700</td>\n",
       "      <td>1</td>\n",
       "      <td>1</td>\n",
       "      <td>1900-01-01 00:03:13.365</td>\n",
       "      <td>Winter is Coming</td>\n",
       "    </tr>\n",
       "    <tr>\n",
       "      <th>4</th>\n",
       "      <td>1900-01-01 00:03:18.737</td>\n",
       "      <td>1</td>\n",
       "      <td>1</td>\n",
       "      <td>1900-01-01 00:03:15.734</td>\n",
       "      <td>Winter is Coming</td>\n",
       "    </tr>\n",
       "  </tbody>\n",
       "</table>\n",
       "</div>"
      ],
      "text/plain": [
       "                      end  episode  season                   start  \\\n",
       "0 1900-01-01 00:01:58.420        1       1 1900-01-01 00:01:55.418   \n",
       "1 1900-01-01 00:02:56.881        1       1 1900-01-01 00:02:55.047   \n",
       "2 1900-01-01 00:03:13.331        1       1 1900-01-01 00:03:11.162   \n",
       "3 1900-01-01 00:03:15.700        1       1 1900-01-01 00:03:13.365   \n",
       "4 1900-01-01 00:03:18.737        1       1 1900-01-01 00:03:15.734   \n",
       "\n",
       "              title  \n",
       "0  Winter is Coming  \n",
       "1  Winter is Coming  \n",
       "2  Winter is Coming  \n",
       "3  Winter is Coming  \n",
       "4  Winter is Coming  "
      ]
     },
     "execution_count": 525,
     "metadata": {},
     "output_type": "execute_result"
    }
   ],
   "source": [
    "dialogues_refined.head()"
   ]
  },
  {
   "cell_type": "markdown",
   "metadata": {},
   "source": [
    "## Plot the dialogues"
   ]
  },
  {
   "cell_type": "code",
   "execution_count": 526,
   "metadata": {
    "collapsed": true
   },
   "outputs": [],
   "source": [
    "def make_graph(episode_df, limits):\n",
    "    # Which episode \n",
    "    season_id = episode_df['season'].head(1).item()\n",
    "    episode_id = episode_df['episode'].head(1).item()\n",
    "    \n",
    "    # Get the full length of this episode\n",
    "    episode_length = got_len[\n",
    "        (got_len['Episode'] == episode_id) \n",
    "        & (got_len['Season'] == season_id)]['Length'].item()\n",
    "    end_hour = '{0:02d}'.format(math.floor(episode_length / 60))\n",
    "    end_min = '{0:02d}'.format(episode_length % 60)\n",
    "    \n",
    "    # Prepare the graph\n",
    "    plt.subplot(15, 1, episode_id)\n",
    "    plt.gca().axes.get_xaxis().set_visible(False)\n",
    "    plt.gca().axes.get_yaxis().set_visible(False)\n",
    "    plt.gca().xaxis_date()\n",
    "    plt.gca().xaxis.set_major_formatter(DateFormatter('%H:%M:%S'))\n",
    "    plt.title(\"Season \" + str(season_id) + \" Episode \" + str(episode_id))\n",
    "    if limits: plt.gca().set_xlim(limits['start'], limits['end'])\n",
    "    \n",
    "    # Plot the dialogues\n",
    "    for index, line in episode_df.iterrows():\n",
    "        plt.hlines(0, line.start, line.end, '#a20d7d', alpha=1, lw=10)"
   ]
  },
  {
   "cell_type": "code",
   "execution_count": 527,
   "metadata": {},
   "outputs": [
    {
     "data": {
      "image/png": "[encoded data removed]",
      "text/plain": [
       "<matplotlib.figure.Figure at 0x113ceaf28>"
      ]
     },
     "metadata": {},
     "output_type": "display_data"
    }
   ],
   "source": [
    "plt.figure(figsize=(16, 10))\n",
    "plt.subplots_adjust(hspace=2)\n",
    "dialogues_refined[\n",
    "    (dialogues_refined['season'] == 7)\n",
    "    &(dialogues_refined['episode'] == 6)].groupby('episode').apply(make_graph, {\n",
    "    'start':pd.Timestamp('1900-01-01 00:00:00.000'),\n",
    "    'end':pd.Timestamp('1900-01-01 01:10:00.000')})\n",
    "plt.gca().axes.get_xaxis().set_visible(True)"
   ]
  },
  {
   "cell_type": "markdown",
   "metadata": {},
   "source": [
    "## Save the graphs to pdf"
   ]
  },
  {
   "cell_type": "code",
   "execution_count": 528,
   "metadata": {
    "scrolled": true
   },
   "outputs": [
    {
     "data": {
      "text/html": [
       "<div>\n",
       "<style>\n",
       "    .dataframe thead tr:only-child th {\n",
       "        text-align: right;\n",
       "    }\n",
       "\n",
       "    .dataframe thead th {\n",
       "        text-align: left;\n",
       "    }\n",
       "\n",
       "    .dataframe tbody tr th {\n",
       "        vertical-align: top;\n",
       "    }\n",
       "</style>\n",
       "<table border=\"1\" class=\"dataframe\">\n",
       "  <thead>\n",
       "    <tr style=\"text-align: right;\">\n",
       "      <th></th>\n",
       "    </tr>\n",
       "  </thead>\n",
       "  <tbody>\n",
       "  </tbody>\n",
       "</table>\n",
       "</div>"
      ],
      "text/plain": [
       "Empty DataFrame\n",
       "Columns: []\n",
       "Index: []"
      ]
     },
     "execution_count": 528,
     "metadata": {},
     "output_type": "execute_result"
    },
    {
     "data": {
      "image/png": "[encoded data removed]",
      "text/plain": [
       "<matplotlib.figure.Figure at 0x11883dac8>"
      ]
     },
     "metadata": {},
     "output_type": "display_data"
    },
    {
     "data": {
      "image/png": "[encoded data removed]",
      "text/plain": [
       "<matplotlib.figure.Figure at 0x11942b5c0>"
      ]
     },
     "metadata": {},
     "output_type": "display_data"
    },
    {
     "data": {
      "image/png": "[encoded data removed]",
      "text/plain": [
       "<matplotlib.figure.Figure at 0x11b743a58>"
      ]
     },
     "metadata": {},
     "output_type": "display_data"
    },
    {
     "data": {
      "image/png": "[encoded data removed]",
      "text/plain": [
       "<matplotlib.figure.Figure at 0x113d442b0>"
      ]
     },
     "metadata": {},
     "output_type": "display_data"
    },
    {
     "data": {
      "image/png": "[encoded data removed]",
      "text/plain": [
       "<matplotlib.figure.Figure at 0x11a77fac8>"
      ]
     },
     "metadata": {},
     "output_type": "display_data"
    },
    {
     "data": {
      "image/png": "[encoded data removed]",
      "text/plain": [
       "<matplotlib.figure.Figure at 0x11bd68940>"
      ]
     },
     "metadata": {},
     "output_type": "display_data"
    },
    {
     "data": {
      "image/png": "[encoded data removed]",
      "text/plain": [
       "<matplotlib.figure.Figure at 0x11cddd940>"
      ]
     },
     "metadata": {},
     "output_type": "display_data"
    },
    {
     "data": {
      "image/png": "[encoded data removed]",
      "text/plain": [
       "<matplotlib.figure.Figure at 0x11d7467b8>"
      ]
     },
     "metadata": {},
     "output_type": "display_data"
    },
    {
     "data": {
      "image/png": "[encoded data removed]",
      "text/plain": [
       "<matplotlib.figure.Figure at 0x11e27afd0>"
      ]
     },
     "metadata": {},
     "output_type": "display_data"
    },
    {
     "data": {
      "image/png": "[encoded data removed]",
      "text/plain": [
       "<matplotlib.figure.Figure at 0x11ec5f780>"
      ]
     },
     "metadata": {},
     "output_type": "display_data"
    },
    {
     "data": {
      "image/png": "[encoded data removed]",
      "text/plain": [
       "<matplotlib.figure.Figure at 0x11f6c77f0>"
      ]
     },
     "metadata": {},
     "output_type": "display_data"
    }
   ],
   "source": [
    "def save_graph(episode_df):\n",
    "    plt.figure(figsize=(16, .5))\n",
    "    plt.gca().axes.get_xaxis().set_visible(False)\n",
    "    plt.gca().axes.get_yaxis().set_visible(False)\n",
    "    plt.gca().set_xlim(\n",
    "        pd.Timestamp('1900-01-01 00:00:00.000'),\n",
    "        pd.Timestamp('1900-01-01 01:10:00.000'))\n",
    "\n",
    "    for index, line in episode_df.iterrows():\n",
    "        plt.hlines(0, line.start, line.end, '#a20d7d', alpha=1, lw=10)\n",
    "        \n",
    "    season_id = episode_df['season'].head(1).item()\n",
    "    episode_id = episode_df['episode'].head(1).item()\n",
    "    plt.savefig('output/s' + str(season_id) + 'e' + '{0:02d}'.format(episode_id) + '.png')\n",
    "\n",
    "    \n",
    "dialogues_refined[dialogues_refined['season'] == 1].groupby('episode').apply(save_graph)"
   ]
  },
  {
   "cell_type": "markdown",
   "metadata": {
    "collapsed": true
   },
   "source": [
    "## Join the dialogues together to have a more readable score"
   ]
  },
  {
   "cell_type": "code",
   "execution_count": 529,
   "metadata": {
    "collapsed": true
   },
   "outputs": [],
   "source": [
    "segments = []\n",
    "\n",
    "for ep_index, ep in dialogues_refined.groupby(['season', 'episode']):\n",
    "    last_d = pd.DataFrame()\n",
    "    \n",
    "    for index, d in ep.iterrows():\n",
    "        if last_d.empty == False:\n",
    "            # Seconds allowed to make a junction: 7s\n",
    "            if d['start'] - last_d['end'] > pd.Timedelta(seconds=7):\n",
    "                # new segment\n",
    "                segment_end = last_d['end']    \n",
    "                segments.append({\n",
    "                    'start': segment_start,\n",
    "                    'end': segment_end,\n",
    "                    'episode': d['episode'],\n",
    "                    'season': d['season'],\n",
    "                    'title': d['title']\n",
    "                })          \n",
    "                segment_start = d['start']\n",
    "        else:\n",
    "            segment_start = d['start']\n",
    "        last_d = d\n",
    "    \n",
    "segments = pd.DataFrame(segments)"
   ]
  },
  {
   "cell_type": "markdown",
   "metadata": {},
   "source": [
    "## Plot and compare the adjusted version with the original one"
   ]
  },
  {
   "cell_type": "code",
   "execution_count": 821,
   "metadata": {
    "collapsed": true
   },
   "outputs": [],
   "source": [
    "# Values used for testing\n",
    "test_values = {\n",
    "    'limit_start': pd.Timestamp('1900-01-01 00:00:00.000'),\n",
    "    'limit_end': pd.Timestamp('1900-01-01 01:10:00.000'),\n",
    "    'season': 7,\n",
    "    'episode': 6\n",
    "}"
   ]
  },
  {
   "cell_type": "markdown",
   "metadata": {},
   "source": [
    "### Original score"
   ]
  },
  {
   "cell_type": "code",
   "execution_count": 813,
   "metadata": {},
   "outputs": [
    {
     "data": {
      "image/png": "[encoded data removed]",
      "text/plain": [
       "<matplotlib.figure.Figure at 0x1179519e8>"
      ]
     },
     "metadata": {},
     "output_type": "display_data"
    }
   ],
   "source": [
    "plt.figure(figsize=(16, 10))\n",
    "plt.subplots_adjust(hspace=.5)\n",
    "make_graph(\n",
    "    dialogues_refined[\n",
    "        (dialogues_refined['season'] == test_values['season'])\n",
    "        &(dialogues_refined['episode'] == test_values['episode'])],\n",
    "    {\n",
    "        'start': test_values['limit_start'],\n",
    "        'end': test_values['limit_end']\n",
    "    })\n",
    "plt.gca().axes.get_xaxis().set_visible(True)"
   ]
  },
  {
   "cell_type": "markdown",
   "metadata": {},
   "source": [
    "### Joined dialogues score"
   ]
  },
  {
   "cell_type": "code",
   "execution_count": 814,
   "metadata": {},
   "outputs": [
    {
     "data": {
      "image/png": "[encoded data removed]",
      "text/plain": [
       "<matplotlib.figure.Figure at 0x11854ff28>"
      ]
     },
     "metadata": {},
     "output_type": "display_data"
    }
   ],
   "source": [
    "plt.figure(figsize=(16, 10))\n",
    "plt.subplots_adjust(hspace=.5)\n",
    "make_graph(\n",
    "    segments[\n",
    "        (segments['season'] == test_values['season'])\n",
    "        &(segments['episode'] == test_values['episode'])],\n",
    "    {\n",
    "        'start': test_values['limit_start'],\n",
    "        'end': test_values['limit_end']\n",
    "    })\n",
    "plt.gca().axes.get_xaxis().set_visible(True)"
   ]
  },
  {
   "cell_type": "markdown",
   "metadata": {},
   "source": [
    "### Without the isolated short dialogues"
   ]
  },
  {
   "cell_type": "code",
   "execution_count": 815,
   "metadata": {},
   "outputs": [
    {
     "data": {
      "image/png": "[encoded data removed]",
      "text/plain": [
       "<matplotlib.figure.Figure at 0x119477048>"
      ]
     },
     "metadata": {},
     "output_type": "display_data"
    }
   ],
   "source": [
    "plt.figure(figsize=(16, 10))\n",
    "plt.subplots_adjust(hspace=.5)\n",
    "make_graph(\n",
    "    segments[\n",
    "        (segments['end'] - segments['start'] > pd.Timedelta(seconds=20))\n",
    "        &(segments['season'] == test_values['season'])\n",
    "        &(segments['episode'] == test_values['episode'])],\n",
    "    {\n",
    "        'start': test_values['limit_start'],\n",
    "        'end': test_values['limit_end']\n",
    "    })\n",
    "plt.gca().axes.get_xaxis().set_visible(True)"
   ]
  },
  {
   "cell_type": "markdown",
   "metadata": {},
   "source": [
    "## Fit the score into a grid of n segments of the same length"
   ]
  },
  {
   "cell_type": "code",
   "execution_count": 816,
   "metadata": {
    "collapsed": true
   },
   "outputs": [],
   "source": [
    "def format_timedelta(td):\n",
    "    minutes, seconds = divmod(td.seconds + td.days * 86400, 60)\n",
    "    hours, minutes = divmod(minutes, 60)\n",
    "    return '{:d}:{:02d}:{:02d}'.format(hours, minutes, seconds)"
   ]
  },
  {
   "cell_type": "code",
   "execution_count": 817,
   "metadata": {
    "collapsed": true
   },
   "outputs": [],
   "source": [
    "cells_number = 12\n",
    "limits = {\n",
    "    'start': pd.Timestamp('1900-01-01 00:00:00.000'),\n",
    "    'end': pd.Timestamp('1900-01-01 01:10:00.000')\n",
    "}\n",
    "cell_length = (limits['end'] - limits['start']) / cells_number\n",
    "current_cell_time = {}"
   ]
  },
  {
   "cell_type": "code",
   "execution_count": 822,
   "metadata": {},
   "outputs": [
    {
     "data": {
      "image/png": "[encoded data removed]",
      "text/plain": [
       "<matplotlib.figure.Figure at 0x11ad49b70>"
      ]
     },
     "metadata": {},
     "output_type": "display_data"
    },
    {
     "data": {
      "image/png": "[encoded data removed]",
      "text/plain": [
       "<matplotlib.figure.Figure at 0x11c3b2d68>"
      ]
     },
     "metadata": {},
     "output_type": "display_data"
    }
   ],
   "source": [
    "segments_test = segments[\n",
    "        (segments['end'] - segments['start'] > pd.Timedelta(seconds=30))\n",
    "        &(segments['season'] == test_values['season'])\n",
    "        &(segments['episode'] == test_values['episode'])].copy()\n",
    "\n",
    "plt.figure(figsize=(16, .5))\n",
    "plt.gca().xaxis.set_major_formatter(DateFormatter('%H:%M:%S'))\n",
    "plt.gca().axes.get_yaxis().set_visible(False)\n",
    "plt.gca().set_xlim(\n",
    "    pd.Timestamp('1900-01-01 00:00:00.000'),\n",
    "    pd.Timestamp('1900-01-01 01:10:00.000'))\n",
    "\n",
    "cells = []\n",
    "remain = pd.Timedelta(seconds=0)\n",
    "\n",
    "for ic in range(cells_number):\n",
    "    \n",
    "    current_cell_time['start'] = limits['start'] + ic * cell_length\n",
    "    current_cell_time['end'] = current_cell_time['start'] + cell_length\n",
    "    cell_fill = pd.Timedelta(seconds=0)\n",
    "        \n",
    "    if remain > pd.Timedelta(seconds=0):\n",
    "        n_covered = math.floor(remain / cell_length)\n",
    "        \n",
    "        if n_covered > 0:\n",
    "            for c in range(n_covered):\n",
    "                cells.append(True)\n",
    "                ic = ic + 1\n",
    "            #remain = remain % n_covered\n",
    "            next\n",
    "        \n",
    "        cell_fill = cell_fill + remain\n",
    "        remain = pd.Timedelta(seconds=0)\n",
    "    \n",
    "    for i, (index, s) in enumerate(segments_test.iterrows()):\n",
    "        if ic==0:\n",
    "            plt.hlines(0, s['start'], s['end'], '#a20d7d', alpha=1, lw=10)\n",
    "        # If the current segment fit the cell\n",
    "        if (s['start'] > current_cell_time['start']) & (s['end'] < current_cell_time['end']):\n",
    "            s_length = s['end'] - s['start']\n",
    "            cell_fill = cell_fill + s_length\n",
    "        # If the current segment overlap the cell\n",
    "        else:\n",
    "            if (s['end'] > current_cell_time['end'])& (s['start'] < current_cell_time['end']):\n",
    "                remain = s['end'] - current_cell_time['end']\n",
    "                s['end'] = current_cell_time['end']\n",
    "                s_length = s['end'] - s['start']\n",
    "                cell_fill = cell_fill + s_length\n",
    "    \n",
    "#     print(\"Cell -\", ic, \n",
    "#           \"- filled at\", format_timedelta(cell_fill), \n",
    "#           \"remain:\", format_timedelta(remain))\n",
    "    \n",
    "    cells.append(True if cell_fill > pd.Timedelta(seconds=120) else False)\n",
    "    plt.vlines(current_cell_time['start']+cell_length, -5, 5, '#333333', alpha=1, lw=1) \n",
    "\n",
    "plt.vlines(0, -5, 5, '#333333', alpha=1, lw=1) \n",
    "plt.figure(figsize=(16, 1))\n",
    "plt.gca().xaxis.set_major_formatter(ticker.FuncFormatter(lambda x, pos: int(x/10)))\n",
    "plt.title(\"Season \"+ str(test_values['season']) + \" Episode \"+ str(test_values['episode']))\n",
    "plt.gca().axes.get_yaxis().set_visible(False)\n",
    "plt.vlines(0, -20, 20, '#333333', alpha=1, lw=1, zorder=100)\n",
    "for i, t in enumerate(cells):\n",
    "    w = 10\n",
    "    x = i*10 + i*0\n",
    "    color = '#a20d7d' if t else '#f1f2f3'\n",
    "    plt.hlines(0, x, x+w, color, alpha=1, lw=40)\n",
    "    plt.vlines(x+w, -20, 20, '#333333', alpha=1, lw=1, zorder=100)"
   ]
  },
  {
   "cell_type": "markdown",
   "metadata": {},
   "source": [
    "### Function to be applied to a whole season"
   ]
  },
  {
   "cell_type": "code",
   "execution_count": 823,
   "metadata": {
    "collapsed": true
   },
   "outputs": [],
   "source": [
    "def make_cells(episode_df, cells_number, fill_percentage):\n",
    "    \n",
    "    # Which episode \n",
    "    season_id = episode_df['season'].head(1).item()\n",
    "    episode_id = episode_df['episode'].head(1).item()\n",
    "\n",
    "    # Initialize the graph\n",
    "    limits = {\n",
    "        'start': pd.Timestamp('1900-01-01 00:00:00.000'),\n",
    "        'end': pd.Timestamp('1900-01-01 01:10:00.000') }\n",
    "    cell_length = limits['end'] - limits['start']\n",
    "    cell_length = cell_length / cells_number\n",
    "    cells = []\n",
    "    remain = pd.Timedelta(seconds=0)    \n",
    "    \n",
    "    # Draw each cell\n",
    "    for ic in range(cells_number):\n",
    "        \n",
    "        # Initialize the cell\n",
    "        current_cell_time['start'] = limits['start'] + ic * cell_length\n",
    "        current_cell_time['end'] = current_cell_time['start'] + cell_length\n",
    "        cell_fill = pd.Timedelta(seconds=0)\n",
    "        \n",
    "        if remain > pd.Timedelta(seconds=0):\n",
    "            n_covered = math.floor(remain / cell_length)\n",
    "\n",
    "            if n_covered > 0:\n",
    "                print(episode_id)\n",
    "                for c in range(n_covered):\n",
    "                    cells.append(True)\n",
    "                    ic = ic + 1\n",
    "                #remain = remain % n_covered\n",
    "                next\n",
    "\n",
    "            cell_fill = cell_fill + remain\n",
    "            remain = pd.Timedelta(seconds=0)\n",
    "            \n",
    "        # Test each segment\n",
    "        for i, (index, s) in enumerate(episode_df.iterrows()):\n",
    "                        \n",
    "            # If the current segment fit the cell\n",
    "            if (s['start'] > current_cell_time['start']) & (s['end'] < current_cell_time['end']):\n",
    "                s_length = s['end'] - s['start']\n",
    "                cell_fill = cell_fill + s_length\n",
    "            # If the current segment overlap the cell\n",
    "            else:\n",
    "                if (s['end'] > current_cell_time['end'])& (s['start'] < current_cell_time['end']):\n",
    "                    remain = s['end'] - current_cell_time['end']\n",
    "                    s['end'] = current_cell_time['end']\n",
    "                    s_length = s['end'] - s['start']\n",
    "                    cell_fill = cell_fill + s_length\n",
    "\n",
    "                    \n",
    "#         print(\"S\"+str(season_id)+\"E\"+str(episode_id), s['episode'], \"Cell -\", ic, \n",
    "#               \"- filled at\", format_timedelta(cell_fill),\n",
    "#               \"(\" + str(cell_fill/cell_length) + \"%)\",\n",
    "#               \"remain:\", format_timedelta(remain))\n",
    "                    \n",
    "        cells.append(True if cell_fill/cell_length > fill_percentage else False)\n",
    "\n",
    "    plt.subplot(15, 1, episode_id)\n",
    "    plt.gca().xaxis.set_major_formatter(ticker.FuncFormatter(lambda x, pos: int(x/10)))\n",
    "    plt.title(\"Season \"+ str(season_id) + \" Episode \"+ str(episode_id))\n",
    "    plt.gca().axes.get_yaxis().set_visible(False)\n",
    "    plt.vlines(0, -5, 5, '#333333', alpha=1, lw=1) \n",
    "    plt.vlines(0, -20, 20, '#333333', alpha=1, lw=1, zorder=100)\n",
    "    \n",
    "    for i, t in enumerate(cells):\n",
    "        w = 10\n",
    "        x = i*10 + i*0\n",
    "        color = '#a20d7d' if t else '#f1f2f3'\n",
    "        plt.hlines(0, x, x+w, color, alpha=1, lw=40)\n",
    "        plt.vlines(x+w, -20, 20, '#333333', alpha=1, lw=1, zorder=100)"
   ]
  },
  {
   "cell_type": "markdown",
   "metadata": {},
   "source": [
    "### Plot a season"
   ]
  },
  {
   "cell_type": "code",
   "execution_count": 820,
   "metadata": {},
   "outputs": [
    {
     "data": {
      "text/html": [
       "<div>\n",
       "<style>\n",
       "    .dataframe thead tr:only-child th {\n",
       "        text-align: right;\n",
       "    }\n",
       "\n",
       "    .dataframe thead th {\n",
       "        text-align: left;\n",
       "    }\n",
       "\n",
       "    .dataframe tbody tr th {\n",
       "        vertical-align: top;\n",
       "    }\n",
       "</style>\n",
       "<table border=\"1\" class=\"dataframe\">\n",
       "  <thead>\n",
       "    <tr style=\"text-align: right;\">\n",
       "      <th></th>\n",
       "    </tr>\n",
       "  </thead>\n",
       "  <tbody>\n",
       "  </tbody>\n",
       "</table>\n",
       "</div>"
      ],
      "text/plain": [
       "Empty DataFrame\n",
       "Columns: []\n",
       "Index: []"
      ]
     },
     "execution_count": 820,
     "metadata": {},
     "output_type": "execute_result"
    },
    {
     "data": {
      "image/png": "[encoded data removed]",
      "text/plain": [
       "<matplotlib.figure.Figure at 0x11b11d4a8>"
      ]
     },
     "metadata": {},
     "output_type": "display_data"
    }
   ],
   "source": [
    "plt.figure(figsize=(16, 20))\n",
    "plt.subplots_adjust(hspace=1.5)\n",
    "\n",
    "(segments[(segments['season'] == 7)&(segments['end'] - segments['start'] > pd.Timedelta(seconds=30))]\n",
    " .groupby(['season', 'episode'])\n",
    " .apply(make_cells, 12, .343))"
   ]
  },
  {
   "cell_type": "markdown",
   "metadata": {},
   "source": [
    "## Focus on blank segments"
   ]
  },
  {
   "cell_type": "code",
   "execution_count": 539,
   "metadata": {
    "collapsed": true
   },
   "outputs": [],
   "source": [
    "def find_cell_by_time(time):\n",
    "    return math.floor((time - pd.Timestamp('1900-01-01 00:00:00.000')) / cell_length)"
   ]
  },
  {
   "cell_type": "code",
   "execution_count": 540,
   "metadata": {},
   "outputs": [
    {
     "data": {
      "text/plain": [
       "2"
      ]
     },
     "execution_count": 540,
     "metadata": {},
     "output_type": "execute_result"
    }
   ],
   "source": [
    "find_cell_by_time(pd.Timestamp('1900-01-01 00:10:20.000'))"
   ]
  },
  {
   "cell_type": "code",
   "execution_count": 541,
   "metadata": {
    "collapsed": true
   },
   "outputs": [],
   "source": [
    "episodes = (segments[segments['end'] - segments['start'] > pd.Timedelta(seconds=0)]\n",
    "            .groupby(['season', 'episode']))\n",
    "\n",
    "blank_segments = []\n",
    "\n",
    "for ep_index, ep in episodes:\n",
    "    blank_seg_start = limits['start']\n",
    "    for i, (index, s) in enumerate(ep.iterrows()):\n",
    "        #print(s['start'], s['end'], i)\n",
    "        blank_seg_end = s['start']\n",
    "        blank_segments.append({\n",
    "            'start': blank_seg_start,\n",
    "            'end': blank_seg_end,\n",
    "            'episode': s['episode'],\n",
    "            'season': s['season'],\n",
    "            'title': s['title']\n",
    "        })\n",
    "        #print(str(len(blank_segments)-1), blank_seg_start, blank_seg_end)\n",
    "        blank_seg_start = s['end']\n",
    "    blank_segments.append({\n",
    "        'start': s['end'],\n",
    "        'end': limits['end'],\n",
    "        'episode': s['episode'],\n",
    "        'season': s['season'],\n",
    "        'title': s['title']\n",
    "    })    \n",
    "            \n",
    "blank_segments = pd.DataFrame(blank_segments)"
   ]
  },
  {
   "cell_type": "markdown",
   "metadata": {},
   "source": [
    "### Empty segments"
   ]
  },
  {
   "cell_type": "code",
   "execution_count": 542,
   "metadata": {},
   "outputs": [
    {
     "data": {
      "image/png": "[encoded data removed]",
      "text/plain": [
       "<matplotlib.figure.Figure at 0x120050a58>"
      ]
     },
     "metadata": {},
     "output_type": "display_data"
    }
   ],
   "source": [
    "plt.figure(figsize=(16, 10))\n",
    "plt.subplots_adjust(hspace=.5)\n",
    "make_graph(\n",
    "    blank_segments[\n",
    "        (blank_segments['season'] == test_values['season'])\n",
    "        &(blank_segments['episode'] == test_values['episode'])],\n",
    "    {\n",
    "        'start': test_values['limit_start'],\n",
    "        'end': test_values['limit_end']\n",
    "    })\n",
    "plt.gca().axes.get_xaxis().set_visible(True)"
   ]
  },
  {
   "cell_type": "markdown",
   "metadata": {},
   "source": [
    "### Save the empty segments"
   ]
  },
  {
   "cell_type": "code",
   "execution_count": 543,
   "metadata": {},
   "outputs": [
    {
     "data": {
      "text/html": [
       "<div>\n",
       "<style>\n",
       "    .dataframe thead tr:only-child th {\n",
       "        text-align: right;\n",
       "    }\n",
       "\n",
       "    .dataframe thead th {\n",
       "        text-align: left;\n",
       "    }\n",
       "\n",
       "    .dataframe tbody tr th {\n",
       "        vertical-align: top;\n",
       "    }\n",
       "</style>\n",
       "<table border=\"1\" class=\"dataframe\">\n",
       "  <thead>\n",
       "    <tr style=\"text-align: right;\">\n",
       "      <th></th>\n",
       "      <th>start_seconds</th>\n",
       "      <th>end_seconds</th>\n",
       "    </tr>\n",
       "  </thead>\n",
       "  <tbody>\n",
       "    <tr>\n",
       "      <th>2938</th>\n",
       "      <td>0</td>\n",
       "      <td>96</td>\n",
       "    </tr>\n",
       "    <tr>\n",
       "      <th>2939</th>\n",
       "      <td>107</td>\n",
       "      <td>147</td>\n",
       "    </tr>\n",
       "    <tr>\n",
       "      <th>2940</th>\n",
       "      <td>223</td>\n",
       "      <td>235</td>\n",
       "    </tr>\n",
       "    <tr>\n",
       "      <th>2941</th>\n",
       "      <td>284</td>\n",
       "      <td>294</td>\n",
       "    </tr>\n",
       "    <tr>\n",
       "      <th>2942</th>\n",
       "      <td>350</td>\n",
       "      <td>359</td>\n",
       "    </tr>\n",
       "  </tbody>\n",
       "</table>\n",
       "</div>"
      ],
      "text/plain": [
       "      start_seconds  end_seconds\n",
       "2938              0           96\n",
       "2939            107          147\n",
       "2940            223          235\n",
       "2941            284          294\n",
       "2942            350          359"
      ]
     },
     "execution_count": 543,
     "metadata": {},
     "output_type": "execute_result"
    }
   ],
   "source": [
    "def time_to_seconds(row):\n",
    "    start_seconds = (row['start'].second\n",
    "                     + row['start'].minute*60\n",
    "                     + row['start'].hour*60*60)\n",
    "    end_seconds = (row['end'].second\n",
    "                   + row['end'].minute*60\n",
    "                   + row['end'].hour*60*60)\n",
    "    return pd.Series({\n",
    "        'start_seconds': start_seconds,\n",
    "        'end_seconds': end_seconds\n",
    "    })\n",
    "\n",
    "blank_segments_data = pd.concat([blank_segments.apply(time_to_seconds, axis=1), blank_segments], axis=1)\n",
    "\n",
    "(blank_segments_data[\n",
    "    (blank_segments_data['season'] == test_values['season'])\n",
    "    &(blank_segments_data['episode'] == test_values['episode'])]\n",
    " [['start_seconds', 'end_seconds']]\n",
    " .to_json('blank_segments.json', orient='values'))\n",
    "\n",
    "(blank_segments_data[\n",
    "    (blank_segments_data['season'] == test_values['season'])\n",
    "    &(blank_segments_data['episode'] == test_values['episode'])]\n",
    " [['start_seconds', 'end_seconds']].head())"
   ]
  },
  {
   "cell_type": "markdown",
   "metadata": {},
   "source": [
    "### Filled segments"
   ]
  },
  {
   "cell_type": "code",
   "execution_count": 544,
   "metadata": {},
   "outputs": [
    {
     "data": {
      "image/png": "[encoded data removed]",
      "text/plain": [
       "<matplotlib.figure.Figure at 0x1207214a8>"
      ]
     },
     "metadata": {},
     "output_type": "display_data"
    }
   ],
   "source": [
    "plt.figure(figsize=(16, 10))\n",
    "plt.subplots_adjust(hspace=.5)\n",
    "make_graph(\n",
    "    segments[\n",
    "        (segments['end'] - segments['start'] > pd.Timedelta(seconds=20))\n",
    "        &(segments['season'] == test_values['season'])\n",
    "        &(segments['episode'] == test_values['episode'])],\n",
    "    {\n",
    "        'start': test_values['limit_start'],\n",
    "        'end': test_values['limit_end']\n",
    "    })\n",
    "plt.gca().axes.get_xaxis().set_visible(True)"
   ]
  },
  {
   "cell_type": "markdown",
   "metadata": {
    "collapsed": true
   },
   "source": [
    "### Add the cells"
   ]
  },
  {
   "cell_type": "code",
   "execution_count": 545,
   "metadata": {},
   "outputs": [
    {
     "data": {
      "image/png": "[encoded data removed]",
      "text/plain": [
       "<matplotlib.figure.Figure at 0x115d903c8>"
      ]
     },
     "metadata": {},
     "output_type": "display_data"
    }
   ],
   "source": [
    "plt.figure(figsize=(16, 1))\n",
    "plt.gca().xaxis.set_major_formatter(DateFormatter('%H:%M:%S'))\n",
    "plt.gca().axes.get_yaxis().set_visible(False)\n",
    "plt.gca().set_xlim(limits['start'], limits['end'])\n",
    "\n",
    "# Draw the blank segments\n",
    "for index, s in blank_segments[\n",
    "        (blank_segments['season'] == test_values['season'])\n",
    "        &(blank_segments['episode'] == test_values['episode'])].iterrows():\n",
    "    plt.hlines(0, s['start'], s['end'], '#a20d7d', alpha=1, lw=10)\n",
    "\n",
    "# Draw the cells\n",
    "for i in range(cells_number):\n",
    "    hours, remainder = divmod((cell_length*i).seconds, 3600)\n",
    "    minutes, seconds = divmod(remainder, 60)\n",
    "    plt.vlines(pd.Timestamp('1900-01-01 '+ str(hours).zfill(3) +':'+ str(minutes).zfill(3) +':00.000'), \n",
    "               -20, 20, '#333333', lw=1) \n",
    "\n",
    "plt.title(\"Season \"+ str(test_values['season']) + \" Episode \"+ str(test_values['episode']))\n",
    "plt.vlines(0, -20, 20, '#333333', lw=1, zorder=100)\n",
    "plt.gca().axes.get_xaxis().set_visible(True)"
   ]
  },
  {
   "cell_type": "markdown",
   "metadata": {
    "collapsed": true
   },
   "source": [
    "## Distribution of the dialogues"
   ]
  },
  {
   "cell_type": "markdown",
   "metadata": {},
   "source": [
    "### Cut the timeline in slices of n seconds and check if a dialogue occurs in these slices"
   ]
  },
  {
   "cell_type": "code",
   "execution_count": 566,
   "metadata": {},
   "outputs": [
    {
     "name": "stdout",
     "output_type": "stream",
     "text": [
      "Season 1 episode 1 done...\n",
      "Season 1 episode 2 done...\n",
      "Season 1 episode 3 done...\n",
      "Season 1 episode 4 done...\n",
      "Season 1 episode 5 done...\n",
      "Season 1 episode 6 done...\n",
      "Season 1 episode 7 done...\n",
      "Season 1 episode 8 done...\n",
      "Season 1 episode 9 done...\n",
      "Season 1 episode 10 done...\n",
      "Season 2 episode 1 done...\n",
      "Season 2 episode 2 done...\n",
      "Season 2 episode 3 done...\n",
      "Season 2 episode 4 done...\n",
      "Season 2 episode 5 done...\n",
      "Season 2 episode 6 done...\n",
      "Season 2 episode 7 done...\n",
      "Season 2 episode 8 done...\n",
      "Season 2 episode 9 done...\n",
      "Season 2 episode 10 done...\n",
      "Season 3 episode 1 done...\n",
      "Season 3 episode 2 done...\n",
      "Season 3 episode 3 done...\n",
      "Season 3 episode 4 done...\n",
      "Season 3 episode 5 done...\n",
      "Season 3 episode 6 done...\n",
      "Season 3 episode 7 done...\n",
      "Season 3 episode 8 done...\n",
      "Season 3 episode 9 done...\n",
      "Season 3 episode 10 done...\n",
      "Season 4 episode 1 done...\n",
      "Season 4 episode 2 done...\n",
      "Season 4 episode 3 done...\n",
      "Season 4 episode 4 done...\n",
      "Season 4 episode 5 done...\n",
      "Season 4 episode 6 done...\n",
      "Season 4 episode 7 done...\n",
      "Season 4 episode 8 done...\n",
      "Season 4 episode 9 done...\n",
      "Season 4 episode 10 done...\n",
      "Season 5 episode 1 done...\n",
      "Season 5 episode 2 done...\n",
      "Season 5 episode 3 done...\n",
      "Season 5 episode 4 done...\n",
      "Season 5 episode 5 done...\n",
      "Season 5 episode 6 done...\n",
      "Season 5 episode 7 done...\n",
      "Season 5 episode 8 done...\n",
      "Season 5 episode 9 done...\n",
      "Season 5 episode 10 done...\n",
      "Season 6 episode 1 done...\n",
      "Season 6 episode 2 done...\n",
      "Season 6 episode 3 done...\n",
      "Season 6 episode 4 done...\n",
      "Season 6 episode 5 done...\n",
      "Season 6 episode 6 done...\n",
      "Season 6 episode 7 done...\n",
      "Season 6 episode 8 done...\n",
      "Season 6 episode 9 done...\n",
      "Season 6 episode 10 done...\n",
      "Season 7 episode 1 done...\n",
      "Season 7 episode 2 done...\n",
      "Season 7 episode 3 done...\n",
      "Season 7 episode 4 done...\n",
      "Season 7 episode 5 done...\n",
      "Season 7 episode 6 done...\n"
     ]
    }
   ],
   "source": [
    "dist_cell_length = pd.Timedelta(seconds=5)\n",
    "dist_count = []\n",
    "\n",
    "# plt.figure(figsize=(16, .5))\n",
    "# plt.gca().xaxis.set_major_formatter(DateFormatter('%H:%M:%S'))\n",
    "# plt.gca().axes.get_yaxis().set_visible(False)\n",
    "# plt.gca().set_xlim(\n",
    "#     pd.Timestamp('1900-01-01 00:00:00.000'),\n",
    "#     pd.Timestamp('1900-01-01 01:10:00.000'))\n",
    "\n",
    "for ep_index, ep in dialogues_refined.groupby(['season', 'episode']): \n",
    "    t_start = limits['start']\n",
    "    for t in range((limits['end'] - limits['start']) // dist_cell_length):\n",
    "        t_end = t_start + dist_cell_length\n",
    "        #print(t_start, t_end)\n",
    "        \n",
    "        for index, d in ep.iterrows():\n",
    "            if ((d['start'] >= t_start) & (d['start'] < t_end)) | ((d['start'] < t_end) & (d['end'] > t_end)):\n",
    "                has_dialogue = True\n",
    "                break\n",
    "            else:\n",
    "                has_dialogue = False\n",
    "  \n",
    "#         plt.hlines(0, t_start, t_end, '#a20d7d' if has_dialogue else '#f1f2f3', alpha=1, lw=10)\n",
    "#         plt.title('Every 5 seconds')\n",
    "\n",
    "                \n",
    "        t_start = t_start + dist_cell_length\n",
    "    \n",
    "        dist_count.append({\n",
    "            'season': d['season'],\n",
    "            'episode': d['episode'],\n",
    "            'minute': t,\n",
    "            'has_dialogue': has_dialogue\n",
    "        })\n",
    "            \n",
    "    print(\"Season \" + str(d['season']), \"episode \" + str(d['episode']), \"done...\")"
   ]
  },
  {
   "cell_type": "code",
   "execution_count": 568,
   "metadata": {},
   "outputs": [
    {
     "data": {
      "text/html": [
       "<div>\n",
       "<style>\n",
       "    .dataframe thead tr:only-child th {\n",
       "        text-align: right;\n",
       "    }\n",
       "\n",
       "    .dataframe thead th {\n",
       "        text-align: left;\n",
       "    }\n",
       "\n",
       "    .dataframe tbody tr th {\n",
       "        vertical-align: top;\n",
       "    }\n",
       "</style>\n",
       "<table border=\"1\" class=\"dataframe\">\n",
       "  <thead>\n",
       "    <tr style=\"text-align: right;\">\n",
       "      <th></th>\n",
       "      <th>episode</th>\n",
       "      <th>has_dialogue</th>\n",
       "      <th>minute</th>\n",
       "      <th>season</th>\n",
       "    </tr>\n",
       "  </thead>\n",
       "  <tbody>\n",
       "    <tr>\n",
       "      <th>0</th>\n",
       "      <td>1</td>\n",
       "      <td>False</td>\n",
       "      <td>0</td>\n",
       "      <td>1</td>\n",
       "    </tr>\n",
       "    <tr>\n",
       "      <th>1</th>\n",
       "      <td>1</td>\n",
       "      <td>False</td>\n",
       "      <td>1</td>\n",
       "      <td>1</td>\n",
       "    </tr>\n",
       "    <tr>\n",
       "      <th>2</th>\n",
       "      <td>1</td>\n",
       "      <td>False</td>\n",
       "      <td>2</td>\n",
       "      <td>1</td>\n",
       "    </tr>\n",
       "    <tr>\n",
       "      <th>3</th>\n",
       "      <td>1</td>\n",
       "      <td>False</td>\n",
       "      <td>3</td>\n",
       "      <td>1</td>\n",
       "    </tr>\n",
       "    <tr>\n",
       "      <th>4</th>\n",
       "      <td>1</td>\n",
       "      <td>False</td>\n",
       "      <td>4</td>\n",
       "      <td>1</td>\n",
       "    </tr>\n",
       "  </tbody>\n",
       "</table>\n",
       "</div>"
      ],
      "text/plain": [
       "   episode  has_dialogue  minute  season\n",
       "0        1         False       0       1\n",
       "1        1         False       1       1\n",
       "2        1         False       2       1\n",
       "3        1         False       3       1\n",
       "4        1         False       4       1"
      ]
     },
     "execution_count": 568,
     "metadata": {},
     "output_type": "execute_result"
    }
   ],
   "source": [
    "dist_count = pd.DataFrame(dist_count)\n",
    "dist_count.head()"
   ]
  },
  {
   "cell_type": "code",
   "execution_count": 77,
   "metadata": {
    "collapsed": true
   },
   "outputs": [],
   "source": [
    "dist_count.to_csv('dialogues_count.csv', index=\"False\")"
   ]
  },
  {
   "cell_type": "code",
   "execution_count": 78,
   "metadata": {
    "collapsed": true
   },
   "outputs": [],
   "source": [
    "dist_count = pd.read_csv('dialogues_count.csv')"
   ]
  },
  {
   "cell_type": "code",
   "execution_count": 79,
   "metadata": {},
   "outputs": [
    {
     "data": {
      "text/plain": [
       "True     28782\n",
       "False    18738\n",
       "Name: has_dialogue, dtype: int64"
      ]
     },
     "execution_count": 79,
     "metadata": {},
     "output_type": "execute_result"
    }
   ],
   "source": [
    "dist_count['has_dialogue'].value_counts()"
   ]
  },
  {
   "cell_type": "markdown",
   "metadata": {},
   "source": [
    "### Evolution of intensity during the whole show"
   ]
  },
  {
   "cell_type": "code",
   "execution_count": 80,
   "metadata": {},
   "outputs": [
    {
     "data": {
      "image/png": "[encoded data removed]",
      "text/plain": [
       "<matplotlib.figure.Figure at 0x113ccbc88>"
      ]
     },
     "metadata": {},
     "output_type": "display_data"
    }
   ],
   "source": [
    "dialogues_pct = (dist_count.groupby(['season', 'episode'])\n",
    "                   ['has_dialogue'].value_counts(normalize=True)\n",
    "                   .reset_index(name='count'))\n",
    "dialogues_pct[dialogues_pct['has_dialogue'] == False].plot(y='count')\n",
    "plt.savefig('intensity_episodes.pdf')"
   ]
  },
  {
   "cell_type": "markdown",
   "metadata": {},
   "source": [
    "#### Average values for each season"
   ]
  },
  {
   "cell_type": "code",
   "execution_count": 82,
   "metadata": {},
   "outputs": [
    {
     "data": {
      "text/plain": [
       "season\n",
       "1    0.369861\n",
       "2    0.325278\n",
       "3    0.334306\n",
       "4    0.416806\n",
       "5    0.435417\n",
       "6    0.465417\n",
       "7    0.425694\n",
       "Name: count, dtype: float64"
      ]
     },
     "execution_count": 82,
     "metadata": {},
     "output_type": "execute_result"
    }
   ],
   "source": [
    "dialogues_pct[dialogues_pct['has_dialogue'] == False].groupby('season')['count'].mean()"
   ]
  },
  {
   "cell_type": "code",
   "execution_count": 81,
   "metadata": {},
   "outputs": [
    {
     "data": {
      "image/png": "[encoded data removed]",
      "text/plain": [
       "<matplotlib.figure.Figure at 0x113ccbdd8>"
      ]
     },
     "metadata": {},
     "output_type": "display_data"
    }
   ],
   "source": [
    "dialogues_pct[dialogues_pct['has_dialogue'] == False].groupby('season')['count'].mean().plot()\n",
    "plt.savefig('intensity_seasons.pdf')"
   ]
  },
  {
   "cell_type": "markdown",
   "metadata": {},
   "source": [
    "#### Percentage change"
   ]
  },
  {
   "cell_type": "code",
   "execution_count": 75,
   "metadata": {},
   "outputs": [
    {
     "name": "stdout",
     "output_type": "stream",
     "text": [
      "Season 2 -12.0540743522%\n",
      "Season 3 2.77540563621%\n",
      "Season 4 24.6780224346%\n",
      "Season 5 4.46517827391%\n",
      "Season 6 6.88995215311%\n",
      "Season 7 -8.53476574157%\n"
     ]
    },
    {
     "data": {
      "image/png": "[encoded data removed]",
      "text/plain": [
       "<matplotlib.figure.Figure at 0x11573c390>"
      ]
     },
     "metadata": {},
     "output_type": "display_data"
    },
    {
     "data": {
      "image/png": "[encoded data removed]",
      "text/plain": [
       "<matplotlib.figure.Figure at 0x114d8cf28>"
      ]
     },
     "metadata": {},
     "output_type": "display_data"
    }
   ],
   "source": [
    "seasons_no_dialogues = dialogues_pct[dialogues_pct['has_dialogue'] == False].groupby('season')\n",
    "(seasons_no_dialogues\n",
    " ['count'].mean()\n",
    " .apply(lambda x: x/seasons_no_dialogues.get_group(1)['count'].mean()-1).plot())\n",
    "\n",
    "\n",
    "f, axarr = plt.subplots(2, 4, sharey=True, figsize=(10,5))\n",
    "plt.subplots_adjust(hspace=.5)\n",
    "\n",
    "for index, g in seasons_no_dialogues:\n",
    "    if index > 1:\n",
    "        axarr[(index-1)//4, (index-1)%4].plot(\n",
    "            [0, 1], [seasons_no_dialogues.get_group(index-1)['count'].mean(), g['count'].mean()])\n",
    "        axarr[(index-1)//4, (index-1)%4].set_title(\"Season \" + str(index))\n",
    "        print(\"Season \" + str(index), \n",
    "              str((g['count'].mean()/seasons_no_dialogues.get_group(index-1)['count'].mean()-1)*100) + \"%\")\n",
    "    \n",
    "plt.savefig('intensity_line_seasons.pdf')"
   ]
  },
  {
   "cell_type": "markdown",
   "metadata": {},
   "source": [
    "### Evolution of intensity during one season"
   ]
  },
  {
   "cell_type": "code",
   "execution_count": 854,
   "metadata": {},
   "outputs": [
    {
     "data": {
      "text/plain": [
       "<matplotlib.axes._subplots.AxesSubplot at 0x11a58b5c0>"
      ]
     },
     "execution_count": 854,
     "metadata": {},
     "output_type": "execute_result"
    },
    {
     "data": {
      "image/png": "[encoded data removed]",
      "text/plain": [
       "<matplotlib.figure.Figure at 0x119ec9ba8>"
      ]
     },
     "metadata": {},
     "output_type": "display_data"
    }
   ],
   "source": [
    "season = 3\n",
    "\n",
    "dialogues_pct = (dist_count[dist_count['season'] == season].groupby(['season', 'episode'])\n",
    "                   ['has_dialogue'].value_counts(normalize=True)\n",
    "                   .reset_index(name='count'))\n",
    "dialogues_pct[dialogues_pct['has_dialogue'] == False].plot(\n",
    "    y='count', x='episode', title='Season ' + str(season))"
   ]
  },
  {
   "cell_type": "markdown",
   "metadata": {},
   "source": [
    "### Histograms"
   ]
  },
  {
   "cell_type": "code",
   "execution_count": 576,
   "metadata": {},
   "outputs": [
    {
     "data": {
      "text/plain": [
       "<matplotlib.axes._subplots.AxesSubplot at 0x11ca7b470>"
      ]
     },
     "execution_count": 576,
     "metadata": {},
     "output_type": "execute_result"
    },
    {
     "data": {
      "image/png": "[encoded data removed]",
      "text/plain": [
       "<matplotlib.figure.Figure at 0x11c74abe0>"
      ]
     },
     "metadata": {},
     "output_type": "display_data"
    }
   ],
   "source": [
    "# Histogram of the average episode intensity for the whole show\n",
    "dist_count[dist_count['has_dialogue'] == False]['minute'].hist(bins=30)"
   ]
  },
  {
   "cell_type": "code",
   "execution_count": 861,
   "metadata": {},
   "outputs": [
    {
     "data": {
      "image/png": "[encoded data removed]",
      "text/plain": [
       "<matplotlib.figure.Figure at 0x11a3ed828>"
      ]
     },
     "metadata": {},
     "output_type": "display_data"
    }
   ],
   "source": [
    "# Histogram of the average episode intensity for one season\n",
    "dist_count[(dist_count['has_dialogue']== False)&(dist_count['season'] == 5)]['minute'].hist(bins=30)\n",
    "plt.savefig('intensity_season1.pdf')"
   ]
  },
  {
   "cell_type": "code",
   "execution_count": 577,
   "metadata": {},
   "outputs": [
    {
     "data": {
      "text/plain": [
       "<matplotlib.axes._subplots.AxesSubplot at 0x1186b9d30>"
      ]
     },
     "execution_count": 577,
     "metadata": {},
     "output_type": "execute_result"
    },
    {
     "data": {
      "image/png": "[encoded data removed]",
      "text/plain": [
       "<matplotlib.figure.Figure at 0x11e2069e8>"
      ]
     },
     "metadata": {},
     "output_type": "display_data"
    }
   ],
   "source": [
    "# Histogram of the average episode dialogues the whole show\n",
    "dist_count[dist_count['has_dialogue'] == True]['minute'].hist(bins=30)"
   ]
  },
  {
   "cell_type": "code",
   "execution_count": 573,
   "metadata": {},
   "outputs": [
    {
     "data": {
      "text/html": [
       "<div>\n",
       "<style>\n",
       "    .dataframe thead tr:only-child th {\n",
       "        text-align: right;\n",
       "    }\n",
       "\n",
       "    .dataframe thead th {\n",
       "        text-align: left;\n",
       "    }\n",
       "\n",
       "    .dataframe tbody tr th {\n",
       "        vertical-align: top;\n",
       "    }\n",
       "</style>\n",
       "<table border=\"1\" class=\"dataframe\">\n",
       "  <thead>\n",
       "    <tr style=\"text-align: right;\">\n",
       "      <th></th>\n",
       "      <th>minute</th>\n",
       "      <th>count</th>\n",
       "    </tr>\n",
       "  </thead>\n",
       "  <tbody>\n",
       "    <tr>\n",
       "      <th>0</th>\n",
       "      <td>0</td>\n",
       "      <td>610.0</td>\n",
       "    </tr>\n",
       "    <tr>\n",
       "      <th>1</th>\n",
       "      <td>1</td>\n",
       "      <td>647.0</td>\n",
       "    </tr>\n",
       "    <tr>\n",
       "      <th>2</th>\n",
       "      <td>2</td>\n",
       "      <td>964.0</td>\n",
       "    </tr>\n",
       "    <tr>\n",
       "      <th>3</th>\n",
       "      <td>3</td>\n",
       "      <td>1081.0</td>\n",
       "    </tr>\n",
       "    <tr>\n",
       "      <th>4</th>\n",
       "      <td>4</td>\n",
       "      <td>1174.0</td>\n",
       "    </tr>\n",
       "  </tbody>\n",
       "</table>\n",
       "</div>"
      ],
      "text/plain": [
       "   minute   count\n",
       "0       0   610.0\n",
       "1       1   647.0\n",
       "2       2   964.0\n",
       "3       3  1081.0\n",
       "4       4  1174.0"
      ]
     },
     "execution_count": 573,
     "metadata": {},
     "output_type": "execute_result"
    }
   ],
   "source": [
    "d_data = (dist_count.groupby(dist_count.minute//24)\n",
    "          ['has_dialogue'].sum()\n",
    "          .reset_index(name='count'))\n",
    "d_data['minute'] = d_data['minute']\n",
    "d_data.head()"
   ]
  },
  {
   "cell_type": "code",
   "execution_count": 574,
   "metadata": {},
   "outputs": [
    {
     "data": {
      "text/plain": [
       "<matplotlib.axes._subplots.AxesSubplot at 0x11cb385c0>"
      ]
     },
     "execution_count": 574,
     "metadata": {},
     "output_type": "execute_result"
    },
    {
     "data": {
      "image/png": "[encoded data removed]",
      "text/plain": [
       "<matplotlib.figure.Figure at 0x119b1db00>"
      ]
     },
     "metadata": {},
     "output_type": "display_data"
    }
   ],
   "source": [
    "d_data['count'].plot(title='Dialogues')"
   ]
  },
  {
   "cell_type": "code",
   "execution_count": 575,
   "metadata": {},
   "outputs": [
    {
     "data": {
      "text/plain": [
       "<matplotlib.axes._subplots.AxesSubplot at 0x11cb23668>"
      ]
     },
     "execution_count": 575,
     "metadata": {},
     "output_type": "execute_result"
    },
    {
     "data": {
      "image/png": "[encoded data removed]",
      "text/plain": [
       "<matplotlib.figure.Figure at 0x12003b4e0>"
      ]
     },
     "metadata": {},
     "output_type": "display_data"
    }
   ],
   "source": [
    "count_dialogues = dist_count.groupby(dist_count.minute//60)['has_dialogue'].value_counts().reset_index(name='count')\n",
    "count_dialogues[count_dialogues['has_dialogue'] == False]['count'].plot(title='Intensity')"
   ]
  },
  {
   "cell_type": "code",
   "execution_count": null,
   "metadata": {
    "collapsed": true
   },
   "outputs": [],
   "source": []
  },
  {
   "cell_type": "code",
   "execution_count": null,
   "metadata": {
    "collapsed": true
   },
   "outputs": [],
   "source": []
  }
 ],
 "metadata": {
  "kernelspec": {
   "display_name": "Python 3",
   "language": "python",
   "name": "python3"
  },
  "language_info": {
   "codemirror_mode": {
    "name": "ipython",
    "version": 3
   },
   "file_extension": ".py",
   "mimetype": "text/x-python",
   "name": "python",
   "nbconvert_exporter": "python",
   "pygments_lexer": "ipython3",
   "version": "3.6.1"
  }
 },
 "nbformat": 4,
 "nbformat_minor": 2
}
