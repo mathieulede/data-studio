{
 "cells": [
  {
   "cell_type": "code",
   "execution_count": 16,
   "metadata": {
    "collapsed": true
   },
   "outputs": [],
   "source": [
    "import numpy as np\n",
    "import requests\n",
    "import pandas as pd\n",
    "%matplotlib inline"
   ]
  },
  {
   "cell_type": "code",
   "execution_count": 3,
   "metadata": {},
   "outputs": [
    {
     "data": {
      "text/plain": [
       "array([[0, 0, 0, ..., 0, 0, 0],\n",
       "       [0, 0, 0, ..., 0, 0, 0],\n",
       "       [0, 0, 0, ..., 0, 0, 0],\n",
       "       ..., \n",
       "       [0, 0, 0, ..., 0, 0, 0],\n",
       "       [0, 0, 0, ..., 0, 0, 0],\n",
       "       [0, 0, 0, ..., 0, 0, 0]], dtype=uint8)"
      ]
     },
     "execution_count": 3,
     "metadata": {},
     "output_type": "execute_result"
    }
   ],
   "source": [
    "np.load('rainbow.npy')"
   ]
  },
  {
   "cell_type": "code",
   "execution_count": 4,
   "metadata": {
    "collapsed": true
   },
   "outputs": [],
   "source": [
    "df = pd.read_json('apple.ndjson', lines=True)"
   ]
  },
  {
   "cell_type": "code",
   "execution_count": 5,
   "metadata": {
    "collapsed": true
   },
   "outputs": [],
   "source": [
    "df_unrecognized = df[df['recognized'] == False]"
   ]
  },
  {
   "cell_type": "code",
   "execution_count": 6,
   "metadata": {},
   "outputs": [
    {
     "data": {
      "text/plain": [
       "US    2480\n",
       "GB     384\n",
       "CA     166\n",
       "KR     123\n",
       "SA     123\n",
       "Name: countrycode, dtype: int64"
      ]
     },
     "execution_count": 6,
     "metadata": {},
     "output_type": "execute_result"
    }
   ],
   "source": [
    "df_unrecognized['countrycode'].value_counts().head()"
   ]
  },
  {
   "cell_type": "code",
   "execution_count": 45,
   "metadata": {},
   "outputs": [
    {
     "data": {
      "text/plain": [
       "US    2480\n",
       "GB     384\n",
       "CA     166\n",
       "SA     123\n",
       "KR     123\n",
       "AU     100\n",
       "RU      89\n",
       "DE      81\n",
       "SE      73\n",
       "PH      65\n",
       "FI      56\n",
       "CZ      54\n",
       "IT      52\n",
       "TW      48\n",
       "FR      45\n",
       "PL      45\n",
       "TH      41\n",
       "ID      41\n",
       "AE      40\n",
       "BR      40\n",
       "IE      31\n",
       "HU      31\n",
       "RO      31\n",
       "NL      28\n",
       "IN      26\n",
       "NZ      23\n",
       "VN      22\n",
       "JP      21\n",
       "BG      21\n",
       "MY      21\n",
       "Name: countrycode, dtype: int64"
      ]
     },
     "execution_count": 45,
     "metadata": {},
     "output_type": "execute_result"
    }
   ],
   "source": [
    "(df_unrecognized.groupby('countrycode')\n",
    " .filter(lambda x: x['countrycode'].count() > 20)['countrycode']\n",
    " .value_counts())"
   ]
  },
  {
   "cell_type": "code",
   "execution_count": 48,
   "metadata": {},
   "outputs": [
    {
     "data": {
      "text/plain": [
       "510"
      ]
     },
     "execution_count": 48,
     "metadata": {},
     "output_type": "execute_result"
    }
   ],
   "source": [
    "len(df[df['countrycode'] == 'CH'])"
   ]
  },
  {
   "cell_type": "code",
   "execution_count": 8,
   "metadata": {},
   "outputs": [
    {
     "data": {
      "text/plain": [
       "apple    4820\n",
       "Name: word, dtype: int64"
      ]
     },
     "execution_count": 8,
     "metadata": {},
     "output_type": "execute_result"
    }
   ],
   "source": [
    "df_unrecognized['word'].value_counts()"
   ]
  },
  {
   "cell_type": "code",
   "execution_count": 51,
   "metadata": {},
   "outputs": [
    {
     "data": {
      "text/plain": [
       "[[[675], [158], [0]],\n",
       " [[675, 675], [158, 158], [185, 189]],\n",
       " [[675, 675], [158, 158], [221, 232]],\n",
       " [[675, 674], [158, 159], [257, 1018]],\n",
       " [[480,\n",
       "   474,\n",
       "   468,\n",
       "   453,\n",
       "   431,\n",
       "   407,\n",
       "   383,\n",
       "   357,\n",
       "   333,\n",
       "   310,\n",
       "   291,\n",
       "   280,\n",
       "   275,\n",
       "   275,\n",
       "   283,\n",
       "   299,\n",
       "   324,\n",
       "   353,\n",
       "   382,\n",
       "   409,\n",
       "   434,\n",
       "   456,\n",
       "   473,\n",
       "   486,\n",
       "   490,\n",
       "   486,\n",
       "   466,\n",
       "   441,\n",
       "   441],\n",
       "  [237,\n",
       "   223,\n",
       "   218,\n",
       "   219,\n",
       "   227,\n",
       "   238,\n",
       "   251,\n",
       "   272,\n",
       "   297,\n",
       "   325,\n",
       "   358,\n",
       "   393,\n",
       "   427,\n",
       "   462,\n",
       "   497,\n",
       "   523,\n",
       "   541,\n",
       "   549,\n",
       "   549,\n",
       "   536,\n",
       "   511,\n",
       "   477,\n",
       "   432,\n",
       "   384,\n",
       "   337,\n",
       "   295,\n",
       "   259,\n",
       "   229,\n",
       "   229],\n",
       "  [5195,\n",
       "   5216,\n",
       "   5258,\n",
       "   5284,\n",
       "   5299,\n",
       "   5315,\n",
       "   5333,\n",
       "   5351,\n",
       "   5366,\n",
       "   5383,\n",
       "   5400,\n",
       "   5417,\n",
       "   5433,\n",
       "   5450,\n",
       "   5467,\n",
       "   5484,\n",
       "   5501,\n",
       "   5516,\n",
       "   5534,\n",
       "   5550,\n",
       "   5566,\n",
       "   5586,\n",
       "   5613,\n",
       "   5616,\n",
       "   5642,\n",
       "   5654,\n",
       "   5664,\n",
       "   5681,\n",
       "   5698]],\n",
       " [[407,\n",
       "   402,\n",
       "   396,\n",
       "   396,\n",
       "   402,\n",
       "   412,\n",
       "   421,\n",
       "   431,\n",
       "   444,\n",
       "   457,\n",
       "   468,\n",
       "   480,\n",
       "   491,\n",
       "   504,\n",
       "   516,\n",
       "   527,\n",
       "   536,\n",
       "   543,\n",
       "   549,\n",
       "   554,\n",
       "   559,\n",
       "   557],\n",
       "  [310,\n",
       "   307,\n",
       "   292,\n",
       "   270,\n",
       "   238,\n",
       "   212,\n",
       "   198,\n",
       "   186,\n",
       "   176,\n",
       "   169,\n",
       "   164,\n",
       "   161,\n",
       "   159,\n",
       "   159,\n",
       "   159,\n",
       "   161,\n",
       "   164,\n",
       "   167,\n",
       "   170,\n",
       "   173,\n",
       "   179,\n",
       "   177],\n",
       "  [5865,\n",
       "   5883,\n",
       "   5916,\n",
       "   5933,\n",
       "   5951,\n",
       "   5967,\n",
       "   5988,\n",
       "   5998,\n",
       "   6015,\n",
       "   6043,\n",
       "   6054,\n",
       "   6070,\n",
       "   6084,\n",
       "   6097,\n",
       "   6114,\n",
       "   6133,\n",
       "   6150,\n",
       "   6166,\n",
       "   6192,\n",
       "   6200,\n",
       "   6234,\n",
       "   6403]]]"
      ]
     },
     "execution_count": 51,
     "metadata": {},
     "output_type": "execute_result"
    }
   ],
   "source": [
    "df_unrecognized.ix[0]['drawing']"
   ]
  },
  {
   "cell_type": "code",
   "execution_count": 22,
   "metadata": {},
   "outputs": [],
   "source": [
    "\n",
    "# Copyright 2017 Google Inc.\n",
    "# \n",
    "# Licensed under the Apache License, Version 2.0 (the \"License\");\n",
    "# you may not use this file except in compliance with the License.\n",
    "# You may obtain a copy of the License at\n",
    "# \n",
    "# https://www.apache.org/licenses/LICENSE-2.0\n",
    "# \n",
    "# Unless required by applicable law or agreed to in writing, software\n",
    "# distributed under the License is distributed on an \"AS IS\" BASIS,\n",
    "# WITHOUT WARRANTIES OR CONDITIONS OF ANY KIND, either express or implied.\n",
    "# See the License for the specific language governing permissions and\n",
    "# limitations under the License.\n",
    "\n",
    "import struct\n",
    "from struct import unpack\n",
    "\n",
    "\n",
    "def unpack_drawing(file_handle):\n",
    "    key_id, = unpack('Q', file_handle.read(8))\n",
    "    countrycode, = unpack('2s', file_handle.read(2))\n",
    "    recognized, = unpack('b', file_handle.read(1))\n",
    "    timestamp, = unpack('I', file_handle.read(4))\n",
    "    n_strokes, = unpack('H', file_handle.read(2))\n",
    "    image = []\n",
    "    for i in range(n_strokes):\n",
    "        n_points, = unpack('H', file_handle.read(2))\n",
    "        fmt = str(n_points) + 'B'\n",
    "        x = unpack(fmt, file_handle.read(n_points))\n",
    "        y = unpack(fmt, file_handle.read(n_points))\n",
    "        image.append((x, y))\n",
    "\n",
    "    return {\n",
    "        'key_id': key_id,\n",
    "        'countrycode': countrycode,\n",
    "        'recognized': recognized,\n",
    "        'timestamp': timestamp,\n",
    "        'image': image\n",
    "    }\n",
    "\n",
    "\n",
    "def unpack_drawings(filename):\n",
    "    with open(filename, 'rb') as f:\n",
    "        while True:\n",
    "            try:\n",
    "                yield unpack_drawing(f)\n",
    "            except struct.error:\n",
    "                break\n",
    "\n",
    "df_unrec = []\n",
    "df = []\n",
    "for drawing in unpack_drawings('face.bin'):\n",
    "    # do something with the drawing\n",
    "    df.append(drawing)\n",
    "    if drawing['recognized'] == False:\n",
    "        df_unrec.append(drawing)"
   ]
  },
  {
   "cell_type": "code",
   "execution_count": 23,
   "metadata": {
    "collapsed": true
   },
   "outputs": [],
   "source": [
    "df_unrec = pd.DataFrame(df_unrec)\n",
    "df = pd.DataFrame(df)"
   ]
  },
  {
   "cell_type": "code",
   "execution_count": 49,
   "metadata": {},
   "outputs": [
    {
     "data": {
      "text/plain": [
       "countrycode  recognized\n",
       "b'AE'        1               938\n",
       "             0                70\n",
       "b'AF'        1                 1\n",
       "b'AG'        1                 3\n",
       "b'AL'        1                37\n",
       "             0                 3\n",
       "b'AM'        1                28\n",
       "             0                 3\n",
       "b'AN'        1                 1\n",
       "b'AO'        1                 1\n",
       "b'AR'        1               333\n",
       "             0                34\n",
       "b'AT'        1               651\n",
       "             0                30\n",
       "b'AU'        1              3292\n",
       "             0               322\n",
       "b'AW'        1                 5\n",
       "             0                 2\n",
       "b'AX'        1                18\n",
       "             0                 1\n",
       "b'AZ'        1                29\n",
       "             0                 1\n",
       "b'BA'        1               281\n",
       "             0                31\n",
       "b'BB'        1                 6\n",
       "b'BD'        1                81\n",
       "             0                 5\n",
       "b'BE'        1               496\n",
       "             0                11\n",
       "b'BG'        1               710\n",
       "                           ...  \n",
       "b'TR'        0                40\n",
       "b'TT'        1                46\n",
       "             0                 2\n",
       "b'TW'        1               975\n",
       "             0                47\n",
       "b'TZ'        1                 2\n",
       "b'UA'        1               887\n",
       "             0                56\n",
       "b'UG'        1                 3\n",
       "b'US'        1             63142\n",
       "             0              6518\n",
       "b'UY'        1                39\n",
       "             0                 2\n",
       "b'UZ'        1                13\n",
       "             0                 1\n",
       "b'VC'        1                 2\n",
       "b'VE'        1                66\n",
       "             0                 4\n",
       "b'VI'        1                 2\n",
       "             0                 1\n",
       "b'VN'        1              1096\n",
       "             0                99\n",
       "b'WS'        1                 1\n",
       "b'YE'        1                 2\n",
       "b'ZA'        1               301\n",
       "             0                26\n",
       "b'ZW'        0                 1\n",
       "             1                 1\n",
       "b'ZZ'        1               136\n",
       "             0                12\n",
       "Name: recognized, Length: 304, dtype: int64"
      ]
     },
     "execution_count": 49,
     "metadata": {},
     "output_type": "execute_result"
    }
   ],
   "source": [
    "df.groupby('countrycode')['recognized'].value_counts()"
   ]
  },
  {
   "cell_type": "code",
   "execution_count": 55,
   "metadata": {},
   "outputs": [
    {
     "data": {
      "text/plain": [
       "countrycode\n",
       "b'TH'    14.186851\n",
       "b'HU'    11.942594\n",
       "b'PH'    11.869748\n",
       "b'ID'     9.527221\n",
       "b'US'     9.356876\n",
       "b'AU'     8.909795\n",
       "b'GB'     8.721817\n",
       "b'CA'     8.676366\n",
       "b'IT'     8.390023\n",
       "b'VN'     8.284519\n",
       "b'IN'     7.874618\n",
       "b'CZ'     7.692308\n",
       "b'RO'     7.611153\n",
       "b'FI'     7.508044\n",
       "b'SE'     7.469459\n",
       "b'AE'     6.944444\n",
       "b'SK'     6.488550\n",
       "b'PL'     6.345067\n",
       "b'FR'     5.959964\n",
       "b'RU'     5.957556\n",
       "b'SA'     5.699482\n",
       "b'NL'     5.451630\n",
       "b'BR'     4.755481\n",
       "b'TW'     4.598826\n",
       "b'DE'     4.268406\n",
       "b'JP'     3.578337\n",
       "b'KR'     2.241379\n",
       "dtype: float64"
      ]
     },
     "execution_count": 55,
     "metadata": {},
     "output_type": "execute_result"
    }
   ],
   "source": [
    "(df.groupby('countrycode')\n",
    " .filter(lambda x: len(x) > 1000)\n",
    " .groupby('countrycode')\n",
    " .apply(lambda x: x[x['recognized'] == 0]['recognized'].count() / len(x) * 100)\n",
    " .sort_values(ascending=False))"
   ]
  },
  {
   "cell_type": "code",
   "execution_count": null,
   "metadata": {
    "collapsed": true
   },
   "outputs": [],
   "source": []
  }
 ],
 "metadata": {
  "kernelspec": {
   "display_name": "Python 3",
   "language": "python",
   "name": "python3"
  },
  "language_info": {
   "codemirror_mode": {
    "name": "ipython",
    "version": 3
   },
   "file_extension": ".py",
   "mimetype": "text/x-python",
   "name": "python",
   "nbconvert_exporter": "python",
   "pygments_lexer": "ipython3",
   "version": "3.6.1"
  }
 },
 "nbformat": 4,
 "nbformat_minor": 2
}
