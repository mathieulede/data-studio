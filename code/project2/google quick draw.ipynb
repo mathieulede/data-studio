{
 "cells": [
  {
   "cell_type": "code",
   "execution_count": 36,
   "metadata": {
    "collapsed": true
   },
   "outputs": [],
   "source": [
    "import numpy as np\n",
    "import pandas as pd\n",
    "import datetime\n",
    "import glob\n",
    "import matplotlib.pyplot as plt\n",
    "%matplotlib inline"
   ]
  },
  {
   "cell_type": "markdown",
   "metadata": {},
   "source": [
    "### Unpack drawings"
   ]
  },
  {
   "cell_type": "code",
   "execution_count": 147,
   "metadata": {
    "collapsed": true
   },
   "outputs": [],
   "source": [
    "# Copyright 2017 Google Inc.\n",
    "# \n",
    "# Licensed under the Apache License, Version 2.0 (the \"License\");\n",
    "# you may not use this file except in compliance with the License.\n",
    "# You may obtain a copy of the License at\n",
    "# \n",
    "# https://www.apache.org/licenses/LICENSE-2.0\n",
    "# \n",
    "# Unless required by applicable law or agreed to in writing, software\n",
    "# distributed under the License is distributed on an \"AS IS\" BASIS,\n",
    "# WITHOUT WARRANTIES OR CONDITIONS OF ANY KIND, either express or implied.\n",
    "# See the License for the specific language governing permissions and\n",
    "# limitations under the License.\n",
    "\n",
    "import struct\n",
    "from struct import unpack\n",
    "\n",
    "\n",
    "def unpack_drawing(file_handle):\n",
    "    key_id, = unpack('Q', file_handle.read(8))\n",
    "    countrycode, = unpack('2s', file_handle.read(2))\n",
    "    recognized, = unpack('b', file_handle.read(1))\n",
    "    timestamp, = unpack('I', file_handle.read(4))\n",
    "    n_strokes, = unpack('H', file_handle.read(2))\n",
    "    image = []\n",
    "    for i in range(n_strokes):\n",
    "        n_points, = unpack('H', file_handle.read(2))\n",
    "        fmt = str(n_points) + 'B'\n",
    "        x = unpack(fmt, file_handle.read(n_points))\n",
    "        y = unpack(fmt, file_handle.read(n_points))\n",
    "        image.append((x, y))\n",
    "\n",
    "    return {\n",
    "        'key_id': key_id,\n",
    "        'countrycode': countrycode,\n",
    "        'recognized': recognized,\n",
    "        'timestamp': timestamp,\n",
    "        'image': image\n",
    "    }\n",
    "\n",
    "\n",
    "def unpack_drawings(filename):\n",
    "    with open(filename, 'rb') as f:\n",
    "        while True:\n",
    "            try:\n",
    "                yield unpack_drawing(f)\n",
    "            except struct.error:\n",
    "                break"
   ]
  },
  {
   "cell_type": "markdown",
   "metadata": {},
   "source": [
    "### Create the dataframe with the selected concepts"
   ]
  },
  {
   "cell_type": "code",
   "execution_count": 195,
   "metadata": {},
   "outputs": [],
   "source": [
    "concepts = {\n",
    "    'animals':[\n",
    "        'cat',\n",
    "        'dog',\n",
    "        'fish',\n",
    "        'whale',\n",
    "        'dolphin',\n",
    "        'spider',\n",
    "        'crocodile',\n",
    "        'elephant',\n",
    "        'snake',\n",
    "        'rabbit'\n",
    "    ],\n",
    "    'body':[\n",
    "        'skull',\n",
    "        'arm',\n",
    "        'beard',\n",
    "        'brain',\n",
    "        'ear',\n",
    "        'elbow',\n",
    "        'eye',\n",
    "        'face',\n",
    "        'finger',\n",
    "        'foot',\n",
    "        'knee',\n",
    "        'leg'\n",
    "    ],\n",
    "    'sport':[\n",
    "        \n",
    "    ],\n",
    "    'music':[\n",
    "        'cello',\n",
    "        'clarinet',\n",
    "        'guitar',\n",
    "        'harp',\n",
    "        'piano',\n",
    "        'saxophone',\n",
    "        'violin'  \n",
    "    ],\n",
    "    'nature':[\n",
    "        \n",
    "    ],\n",
    "    'food':[\n",
    "        \n",
    "    ]\n",
    "}\n",
    "\n",
    "selected_concepts = [\n",
    "    'cat',\n",
    "    'face',\n",
    "    'dog',\n",
    "    'apple'\n",
    "]\n",
    "\n",
    "selected_concepts = concepts['animals']"
   ]
  },
  {
   "cell_type": "code",
   "execution_count": 196,
   "metadata": {},
   "outputs": [],
   "source": [
    "drawings = []\n",
    "\n",
    "for concept in selected_concepts:\n",
    "    for drawing in unpack_drawings('binary/' + concept + '.bin'):\n",
    "        drawing['concept'] = concept\n",
    "        drawings.append(drawing)\n",
    "\n",
    "df = pd.DataFrame(drawings)"
   ]
  },
  {
   "cell_type": "markdown",
   "metadata": {},
   "source": [
    "### Clean the dataframe"
   ]
  },
  {
   "cell_type": "code",
   "execution_count": 197,
   "metadata": {},
   "outputs": [],
   "source": [
    "df['date'] = pd.to_datetime(df['timestamp'], unit='s')\n",
    "df['countrycode'] = df['countrycode'].str.decode('utf-8')"
   ]
  },
  {
   "cell_type": "code",
   "execution_count": 198,
   "metadata": {},
   "outputs": [
    {
     "data": {
      "text/html": [
       "<div>\n",
       "<style>\n",
       "    .dataframe thead tr:only-child th {\n",
       "        text-align: right;\n",
       "    }\n",
       "\n",
       "    .dataframe thead th {\n",
       "        text-align: left;\n",
       "    }\n",
       "\n",
       "    .dataframe tbody tr th {\n",
       "        vertical-align: top;\n",
       "    }\n",
       "</style>\n",
       "<table border=\"1\" class=\"dataframe\">\n",
       "  <thead>\n",
       "    <tr style=\"text-align: right;\">\n",
       "      <th></th>\n",
       "      <th>concept</th>\n",
       "      <th>countrycode</th>\n",
       "      <th>image</th>\n",
       "      <th>key_id</th>\n",
       "      <th>recognized</th>\n",
       "      <th>timestamp</th>\n",
       "      <th>date</th>\n",
       "    </tr>\n",
       "  </thead>\n",
       "  <tbody>\n",
       "    <tr>\n",
       "      <th>0</th>\n",
       "      <td>cat</td>\n",
       "      <td>VE</td>\n",
       "      <td>[((130, 113, 99, 109, 76, 64, 55, 48, 48, 51, ...</td>\n",
       "      <td>5201136883597312</td>\n",
       "      <td>1</td>\n",
       "      <td>1488497110</td>\n",
       "      <td>2017-03-02 23:25:10</td>\n",
       "    </tr>\n",
       "    <tr>\n",
       "      <th>1</th>\n",
       "      <td>cat</td>\n",
       "      <td>BR</td>\n",
       "      <td>[((222, 196, 176, 173, 179, 191, 233, 251, 255...</td>\n",
       "      <td>4647694628814848</td>\n",
       "      <td>1</td>\n",
       "      <td>1490553834</td>\n",
       "      <td>2017-03-26 18:43:54</td>\n",
       "    </tr>\n",
       "    <tr>\n",
       "      <th>2</th>\n",
       "      <td>cat</td>\n",
       "      <td>RO</td>\n",
       "      <td>[((65, 71, 74, 68, 70, 65, 65), (64, 67, 72, 7...</td>\n",
       "      <td>6411036099870720</td>\n",
       "      <td>1</td>\n",
       "      <td>1489829768</td>\n",
       "      <td>2017-03-18 09:36:08</td>\n",
       "    </tr>\n",
       "    <tr>\n",
       "      <th>3</th>\n",
       "      <td>cat</td>\n",
       "      <td>US</td>\n",
       "      <td>[((148, 127, 119, 80, 60, 53, 48, 49, 56, 67, ...</td>\n",
       "      <td>6196755135725568</td>\n",
       "      <td>1</td>\n",
       "      <td>1485360351</td>\n",
       "      <td>2017-01-25 16:05:51</td>\n",
       "    </tr>\n",
       "    <tr>\n",
       "      <th>4</th>\n",
       "      <td>cat</td>\n",
       "      <td>ID</td>\n",
       "      <td>[((91, 77, 74, 75, 90, 116, 134, 148, 164, 165...</td>\n",
       "      <td>4597292839469056</td>\n",
       "      <td>1</td>\n",
       "      <td>1485657736</td>\n",
       "      <td>2017-01-29 02:42:16</td>\n",
       "    </tr>\n",
       "  </tbody>\n",
       "</table>\n",
       "</div>"
      ],
      "text/plain": [
       "  concept countrycode                                              image  \\\n",
       "0     cat          VE  [((130, 113, 99, 109, 76, 64, 55, 48, 48, 51, ...   \n",
       "1     cat          BR  [((222, 196, 176, 173, 179, 191, 233, 251, 255...   \n",
       "2     cat          RO  [((65, 71, 74, 68, 70, 65, 65), (64, 67, 72, 7...   \n",
       "3     cat          US  [((148, 127, 119, 80, 60, 53, 48, 49, 56, 67, ...   \n",
       "4     cat          ID  [((91, 77, 74, 75, 90, 116, 134, 148, 164, 165...   \n",
       "\n",
       "             key_id  recognized   timestamp                date  \n",
       "0  5201136883597312           1  1488497110 2017-03-02 23:25:10  \n",
       "1  4647694628814848           1  1490553834 2017-03-26 18:43:54  \n",
       "2  6411036099870720           1  1489829768 2017-03-18 09:36:08  \n",
       "3  6196755135725568           1  1485360351 2017-01-25 16:05:51  \n",
       "4  4597292839469056           1  1485657736 2017-01-29 02:42:16  "
      ]
     },
     "execution_count": 198,
     "metadata": {},
     "output_type": "execute_result"
    }
   ],
   "source": [
    "df.head()"
   ]
  },
  {
   "cell_type": "markdown",
   "metadata": {},
   "source": [
    "### Percentage of unrecognized drawings by country"
   ]
  },
  {
   "cell_type": "code",
   "execution_count": 205,
   "metadata": {},
   "outputs": [
    {
     "data": {
      "text/plain": [
       "countrycode\n",
       "SA    19.612278\n",
       "HU    15.301160\n",
       "TH    13.700616\n",
       "RO    13.440860\n",
       "UA    11.928934\n",
       "SK    11.643836\n",
       "AE    11.588642\n",
       "PH    11.162433\n",
       "IN    10.875332\n",
       "US    10.794724\n",
       "CZ    10.740531\n",
       "IE    10.682493\n",
       "ID    10.549695\n",
       "IT    10.512289\n",
       "VN    10.254735\n",
       "RU    10.125142\n",
       "CA    10.052554\n",
       "FI     9.788287\n",
       "PL     9.662522\n",
       "SE     9.289466\n",
       "NL     9.276520\n",
       "GB     9.105310\n",
       "MY     8.793265\n",
       "NO     8.560677\n",
       "AU     8.469510\n",
       "FR     7.754670\n",
       "BR     7.508343\n",
       "JP     6.511254\n",
       "DE     6.488847\n",
       "TW     5.295950\n",
       "KR     4.333576\n",
       "dtype: float64"
      ]
     },
     "execution_count": 205,
     "metadata": {},
     "output_type": "execute_result"
    }
   ],
   "source": [
    "(df[df['concept'] == 'spider']\n",
    " .groupby('countrycode')\n",
    " .filter(lambda x: len(x) > 1000)\n",
    " .groupby('countrycode')\n",
    " .apply(lambda x: x[x['recognized'] == 0]['recognized'].count() / len(x) * 100)\n",
    " .sort_values(ascending=False))"
   ]
  },
  {
   "cell_type": "markdown",
   "metadata": {},
   "source": [
    "### What is the most unrecognized drawing?"
   ]
  },
  {
   "cell_type": "code",
   "execution_count": 200,
   "metadata": {},
   "outputs": [
    {
     "data": {
      "text/plain": [
       "concept\n",
       "elephant     17.313675\n",
       "crocodile    16.823000\n",
       "cat          16.372299\n",
       "rabbit       14.144686\n",
       "spider       10.304277\n",
       "dolphin       9.273680\n",
       "whale         6.369848\n",
       "dog           5.832057\n",
       "fish          5.762206\n",
       "snake         5.733073\n",
       "dtype: float64"
      ]
     },
     "execution_count": 200,
     "metadata": {},
     "output_type": "execute_result"
    }
   ],
   "source": [
    "(df.groupby('concept')\n",
    " .apply(lambda x: x[x['recognized'] == 0]['recognized'].count() / len(x) * 100)\n",
    " .sort_values(ascending=False))"
   ]
  },
  {
   "cell_type": "markdown",
   "metadata": {},
   "source": [
    "### Which country produces the most detailed drawings?"
   ]
  },
  {
   "cell_type": "code",
   "execution_count": 257,
   "metadata": {},
   "outputs": [
    {
     "data": {
      "text/plain": [
       "countrycode\n",
       "BF    20.000000\n",
       "AF    10.454545\n",
       "BJ     9.000000\n",
       "TJ     8.666667\n",
       "MM     8.493671\n",
       "dtype: float64"
      ]
     },
     "execution_count": 257,
     "metadata": {},
     "output_type": "execute_result"
    }
   ],
   "source": [
    "# The more strokes a drawing has, the more detailed it is\n",
    "(df.groupby('countrycode')\n",
    " .apply(lambda x: pd.Series([len(d) for d in x['image']]).mean())\n",
    " .sort_values(ascending=False)).head()"
   ]
  },
  {
   "cell_type": "markdown",
   "metadata": {},
   "source": [
    "### Comparison between US and Korea"
   ]
  },
  {
   "cell_type": "code",
   "execution_count": 242,
   "metadata": {},
   "outputs": [
    {
     "data": {
      "text/plain": [
       "<matplotlib.axes._subplots.AxesSubplot at 0x413b90dd8>"
      ]
     },
     "execution_count": 242,
     "metadata": {},
     "output_type": "execute_result"
    },
    {
     "data": {
      "image/png": "[encoded data removed]",
      "text/plain": [
       "<matplotlib.figure.Figure at 0x39f5e5e48>"
      ]
     },
     "metadata": {},
     "output_type": "display_data"
    }
   ],
   "source": [
    "ax = (df[df['countrycode'] == 'US'].groupby('concept')\n",
    " .apply(lambda x: x[x['recognized'] == 0]['recognized'].count() / len(x) * 100)\n",
    " .sort_values(ascending=False)).plot(kind='barh')\n",
    "(df[df['countrycode'] == 'KR'].groupby('concept')\n",
    " .apply(lambda x: x[x['recognized'] == 0]['recognized'].count() / len(x) * 100)\n",
    " .sort_values(ascending=False)).plot(kind='barh', ax=ax, alpha=0.4, color='red')"
   ]
  },
  {
   "cell_type": "markdown",
   "metadata": {},
   "source": [
    "### Number of drawings by country"
   ]
  },
  {
   "cell_type": "code",
   "execution_count": 169,
   "metadata": {},
   "outputs": [
    {
     "data": {
      "text/plain": [
       "US    54278\n",
       "GB     9145\n",
       "CA     4665\n",
       "DE     4276\n",
       "AU     3318\n",
       "RU     3138\n",
       "CZ     2497\n",
       "BR     2421\n",
       "SE     2329\n",
       "FI     2136\n",
       "IT     2024\n",
       "PL     1938\n",
       "FR     1865\n",
       "TH     1814\n",
       "HU     1669\n",
       "KR     1639\n",
       "PH     1605\n",
       "NL     1568\n",
       "SA     1377\n",
       "ID     1101\n",
       "SK     1024\n",
       "Name: countrycode, dtype: int64"
      ]
     },
     "execution_count": 169,
     "metadata": {},
     "output_type": "execute_result"
    }
   ],
   "source": [
    "(df[df['concept'] == 'crocodile']\n",
    " .groupby('countrycode')\n",
    " .filter(lambda x: x['countrycode'].count() > 1000)['countrycode']\n",
    " .value_counts())"
   ]
  },
  {
   "cell_type": "markdown",
   "metadata": {},
   "source": [
    "### Average number of lines for the current drawing"
   ]
  },
  {
   "cell_type": "code",
   "execution_count": 224,
   "metadata": {},
   "outputs": [
    {
     "data": {
      "text/plain": [
       "5.8416910013637109"
      ]
     },
     "execution_count": 224,
     "metadata": {},
     "output_type": "execute_result"
    }
   ],
   "source": [
    "# Average number of lines of the recognized drawings\n",
    "df[df['recognized'] == 1]['image'].apply(lambda x: len(x)).mean()"
   ]
  },
  {
   "cell_type": "code",
   "execution_count": 225,
   "metadata": {},
   "outputs": [
    {
     "data": {
      "text/plain": [
       "9.8970548897924253"
      ]
     },
     "execution_count": 225,
     "metadata": {},
     "output_type": "execute_result"
    }
   ],
   "source": [
    "# Average number of lines of the unrecognized drawings\n",
    "df[df['recognized'] == 0]['image'].apply(lambda x: len(x)).mean()"
   ]
  },
  {
   "cell_type": "markdown",
   "metadata": {},
   "source": [
    "### Average complexity of the lines for the current drawing"
   ]
  },
  {
   "cell_type": "code",
   "execution_count": 88,
   "metadata": {},
   "outputs": [
    {
     "data": {
      "text/plain": [
       "6.6681544599044971"
      ]
     },
     "execution_count": 88,
     "metadata": {},
     "output_type": "execute_result"
    }
   ],
   "source": [
    "# Average complexity of the lines in the recognized drawings\n",
    "(df[df['recognized'] == 1]\n",
    " ['image'].apply(lambda x: pd.Series([len(line[0]) for line in x]).mean())\n",
    " .mean())"
   ]
  },
  {
   "cell_type": "code",
   "execution_count": 89,
   "metadata": {},
   "outputs": [
    {
     "data": {
      "text/plain": [
       "8.2199579457983489"
      ]
     },
     "execution_count": 89,
     "metadata": {},
     "output_type": "execute_result"
    }
   ],
   "source": [
    "# Average complexity of the lines in the unrecognized drawings\n",
    "(df[df['recognized'] == 0]\n",
    " ['image'].apply(lambda x: pd.Series([len(line[0]) for line in x]).mean())\n",
    " .mean())"
   ]
  },
  {
   "cell_type": "markdown",
   "metadata": {},
   "source": [
    "### Drawing with the lowest number of lines"
   ]
  },
  {
   "cell_type": "code",
   "execution_count": 234,
   "metadata": {},
   "outputs": [
    {
     "data": {
      "text/plain": [
       "451"
      ]
     },
     "execution_count": 234,
     "metadata": {},
     "output_type": "execute_result"
    }
   ],
   "source": [
    "df['image'].apply(lambda x: len(x)).idxmin()"
   ]
  },
  {
   "cell_type": "markdown",
   "metadata": {},
   "source": [
    "### Evolution of the percentage of unrecognized drawings"
   ]
  },
  {
   "cell_type": "code",
   "execution_count": 100,
   "metadata": {},
   "outputs": [
    {
     "data": {
      "image/png": "[encoded data removed]",
      "text/plain": [
       "<matplotlib.figure.Figure at 0x12c702f98>"
      ]
     },
     "metadata": {},
     "output_type": "display_data"
    }
   ],
   "source": [
    "ax = (df.groupby(by=df['date'].dt.date)\n",
    "      .apply(lambda x: x[x['recognized'] == 0].count() / len(x))\n",
    "      .plot(y='date'))\n",
    "fig = plt.setp(ax.get_xticklabels(), rotation=30, horizontalalignment='right')"
   ]
  },
  {
   "cell_type": "code",
   "execution_count": null,
   "metadata": {
    "collapsed": true
   },
   "outputs": [],
   "source": []
  }
 ],
 "metadata": {
  "kernelspec": {
   "display_name": "Python 3",
   "language": "python",
   "name": "python3"
  },
  "language_info": {
   "codemirror_mode": {
    "name": "ipython",
    "version": 3
   },
   "file_extension": ".py",
   "mimetype": "text/x-python",
   "name": "python",
   "nbconvert_exporter": "python",
   "pygments_lexer": "ipython3",
   "version": "3.6.1"
  }
 },
 "nbformat": 4,
 "nbformat_minor": 2
}
