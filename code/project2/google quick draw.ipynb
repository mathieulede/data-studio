{
 "cells": [
  {
   "cell_type": "code",
   "execution_count": 272,
   "metadata": {
    "collapsed": true
   },
   "outputs": [],
   "source": [
    "%matplotlib inline\n",
    "import numpy as np\n",
    "import pandas as pd\n",
    "import datetime\n",
    "import glob\n",
    "import matplotlib.pyplot as plt"
   ]
  },
  {
   "cell_type": "markdown",
   "metadata": {},
   "source": [
    "### Draw"
   ]
  },
  {
   "cell_type": "code",
   "execution_count": 281,
   "metadata": {
    "collapsed": true
   },
   "outputs": [],
   "source": [
    "import cairocffi as cairo\n",
    "from cairocffi import ImageSurface, Context\n",
    "from cairocffi import FORMAT_ARGB32, FONT_SLANT_NORMAL, FONT_WEIGHT_NORMAL\n",
    "from IPython.display import display_png, Image\n",
    "\n",
    "def draw_gd(index):\n",
    "    surface = cairo.ImageSurface(cairo.FORMAT_ARGB32, 256, 256)\n",
    "    ctx = cairo.Context(surface)\n",
    "    \n",
    "    ctx.rectangle(0, 0, 1, 1)\n",
    "    ctx.set_source_rgb(0.1, 0.977, 0.979)\n",
    "    ctx.fill()\n",
    "    ctx.set_source_rgb (0.1, 0.1, 0.1)\n",
    "\n",
    "    for strokes in df.ix[index]['image']:\n",
    "        for stroke_index in range(len(strokes)):\n",
    "            if stroke_index % 2 == 0:\n",
    "                # Move to the first point on the stroke\n",
    "                ctx.move_to(strokes[stroke_index][0], strokes[stroke_index+1][0])\n",
    "                # Draw the line\n",
    "                for point_index in range(len(strokes[stroke_index])):\n",
    "                    point_x = strokes[stroke_index][point_index]\n",
    "                    point_y = strokes[stroke_index+1][point_index]\n",
    "                    ctx.line_to(point_x, point_y)\n",
    "                ctx.stroke()\n",
    "\n",
    "    surface.write_to_png (\"drawing.png\")\n",
    "    return Image('drawing.png')"
   ]
  },
  {
   "cell_type": "markdown",
   "metadata": {},
   "source": [
    "### Unpack drawings"
   ]
  },
  {
   "cell_type": "code",
   "execution_count": 263,
   "metadata": {
    "collapsed": true
   },
   "outputs": [],
   "source": [
    "# Copyright 2017 Google Inc.\n",
    "# \n",
    "# Licensed under the Apache License, Version 2.0 (the \"License\");\n",
    "# you may not use this file except in compliance with the License.\n",
    "# You may obtain a copy of the License at\n",
    "# \n",
    "# https://www.apache.org/licenses/LICENSE-2.0\n",
    "# \n",
    "# Unless required by applicable law or agreed to in writing, software\n",
    "# distributed under the License is distributed on an \"AS IS\" BASIS,\n",
    "# WITHOUT WARRANTIES OR CONDITIONS OF ANY KIND, either express or implied.\n",
    "# See the License for the specific language governing permissions and\n",
    "# limitations under the License.\n",
    "\n",
    "import struct\n",
    "from struct import unpack\n",
    "\n",
    "\n",
    "def unpack_drawing(file_handle):\n",
    "    key_id, = unpack('Q', file_handle.read(8))\n",
    "    countrycode, = unpack('2s', file_handle.read(2))\n",
    "    recognized, = unpack('b', file_handle.read(1))\n",
    "    timestamp, = unpack('I', file_handle.read(4))\n",
    "    n_strokes, = unpack('H', file_handle.read(2))\n",
    "    image = []\n",
    "    for i in range(n_strokes):\n",
    "        n_points, = unpack('H', file_handle.read(2))\n",
    "        fmt = str(n_points) + 'B'\n",
    "        x = unpack(fmt, file_handle.read(n_points))\n",
    "        y = unpack(fmt, file_handle.read(n_points))\n",
    "        image.append((x, y))\n",
    "\n",
    "    return {\n",
    "        'key_id': key_id,\n",
    "        'countrycode': countrycode,\n",
    "        'recognized': recognized,\n",
    "        'timestamp': timestamp,\n",
    "        'image': image\n",
    "    }\n",
    "\n",
    "\n",
    "def unpack_drawings(filename):\n",
    "    with open(filename, 'rb') as f:\n",
    "        while True:\n",
    "            try:\n",
    "                yield unpack_drawing(f)\n",
    "            except struct.error:\n",
    "                break"
   ]
  },
  {
   "cell_type": "markdown",
   "metadata": {},
   "source": [
    "### Create the dataframe with the selected concepts"
   ]
  },
  {
   "cell_type": "code",
   "execution_count": 346,
   "metadata": {},
   "outputs": [],
   "source": [
    "concepts = {\n",
    "    'animals':[\n",
    "        'cat',\n",
    "        'dog',\n",
    "        'fish',\n",
    "        'whale',\n",
    "        'dolphin',\n",
    "        'spider',\n",
    "        'crocodile',\n",
    "        'elephant',\n",
    "        'snake',\n",
    "        'rabbit',\n",
    "        'ant',\n",
    "        'bear',\n",
    "        'camel',\n",
    "        'flamingo',\n",
    "        'bat',\n",
    "        'cow',\n",
    "        'panda',\n",
    "        'tiger',\n",
    "        'kangaroo',\n",
    "        'horse',\n",
    "        'lion',\n",
    "        'mosquito',\n",
    "        'octopus',\n",
    "        'monkey'\n",
    "    ],\n",
    "    'body':[\n",
    "        'skull',\n",
    "        'arm',\n",
    "        'beard',\n",
    "        'moustache',\n",
    "        'mouth',\n",
    "        'nose',\n",
    "        'brain',\n",
    "        'ear',\n",
    "        'elbow',\n",
    "        'eye',\n",
    "        'face',\n",
    "        'finger',\n",
    "        'foot',\n",
    "        'knee',\n",
    "        'leg',\n",
    "        'tooth',\n",
    "        'toe'\n",
    "    ],\n",
    "    'sport':[\n",
    "        'baseball',\n",
    "        'baseball bat',\n",
    "        'basketball',\n",
    "        'bicycle',\n",
    "        'boomerang',\n",
    "        'canoe',\n",
    "        'golf club',\n",
    "        'hockey puck',\n",
    "        'rollerskates',\n",
    "        'soccer ball',\n",
    "        'tennis racquet'\n",
    "    ],\n",
    "    'sea related':[\n",
    "        \n",
    "    ],\n",
    "    'fantasy':[\n",
    "        'mermaid',\n",
    "        'dragon',\n",
    "        'angel',\n",
    "        \n",
    "    ],\n",
    "    'music':[\n",
    "        'cello',\n",
    "        'clarinet',\n",
    "        'guitar',\n",
    "        'harp',\n",
    "        'piano',\n",
    "        'saxophone',\n",
    "        'violin'  \n",
    "    ],\n",
    "    'nature':[\n",
    "        'rain',\n",
    "        'tornado',\n",
    "        'flower',\n",
    "        'leaf',\n",
    "        'ocean',\n",
    "        'hurricane',\n",
    "        'river'\n",
    "    ],\n",
    "    'food':[\n",
    "        'aspargus',\n",
    "        'banana',\n",
    "        'apple',\n",
    "        'lollipop',\n",
    "        'onion',\n",
    "        'strawberry',\n",
    "        'watermelon',\n",
    "        'wine bottle',\n",
    "        'ice cream',\n",
    "        'broccoli',\n",
    "        'pizza',\n",
    "        'potato'\n",
    "    ],\n",
    "    'clothes':[\n",
    "        \n",
    "    ],\n",
    "    'tools':[\n",
    "        \n",
    "    ]\n",
    "}\n",
    "\n",
    "selected_concepts = [\n",
    "    'cat',\n",
    "    'face',\n",
    "    'dog',\n",
    "    'apple'\n",
    "]\n",
    "\n",
    "selected_concepts = concepts['sport']"
   ]
  },
  {
   "cell_type": "code",
   "execution_count": 347,
   "metadata": {},
   "outputs": [
    {
     "data": {
      "text/plain": [
       "23"
      ]
     },
     "execution_count": 347,
     "metadata": {},
     "output_type": "execute_result"
    }
   ],
   "source": [
    "len(set(concepts['animals']))"
   ]
  },
  {
   "cell_type": "code",
   "execution_count": 348,
   "metadata": {},
   "outputs": [
    {
     "data": {
      "text/plain": [
       "23"
      ]
     },
     "execution_count": 348,
     "metadata": {},
     "output_type": "execute_result"
    }
   ],
   "source": [
    "len(concepts['animals'])"
   ]
  },
  {
   "cell_type": "code",
   "execution_count": 349,
   "metadata": {},
   "outputs": [],
   "source": [
    "drawings = []\n",
    "\n",
    "for concept in selected_concepts:\n",
    "    for drawing in unpack_drawings('binary/' + concept + '.bin'):\n",
    "        drawing['concept'] = concept\n",
    "        drawings.append(drawing)\n",
    "\n",
    "df = pd.DataFrame(drawings)"
   ]
  },
  {
   "cell_type": "markdown",
   "metadata": {},
   "source": [
    "### Clean the dataframe"
   ]
  },
  {
   "cell_type": "code",
   "execution_count": 350,
   "metadata": {
    "collapsed": true
   },
   "outputs": [],
   "source": [
    "df['date'] = pd.to_datetime(df['timestamp'], unit='s')\n",
    "df['countrycode'] = df['countrycode'].str.decode('utf-8')"
   ]
  },
  {
   "cell_type": "code",
   "execution_count": 351,
   "metadata": {},
   "outputs": [
    {
     "data": {
      "text/html": [
       "<div>\n",
       "<style>\n",
       "    .dataframe thead tr:only-child th {\n",
       "        text-align: right;\n",
       "    }\n",
       "\n",
       "    .dataframe thead th {\n",
       "        text-align: left;\n",
       "    }\n",
       "\n",
       "    .dataframe tbody tr th {\n",
       "        vertical-align: top;\n",
       "    }\n",
       "</style>\n",
       "<table border=\"1\" class=\"dataframe\">\n",
       "  <thead>\n",
       "    <tr style=\"text-align: right;\">\n",
       "      <th></th>\n",
       "      <th>concept</th>\n",
       "      <th>countrycode</th>\n",
       "      <th>image</th>\n",
       "      <th>key_id</th>\n",
       "      <th>recognized</th>\n",
       "      <th>timestamp</th>\n",
       "      <th>date</th>\n",
       "    </tr>\n",
       "  </thead>\n",
       "  <tbody>\n",
       "    <tr>\n",
       "      <th>0</th>\n",
       "      <td>baseball</td>\n",
       "      <td>US</td>\n",
       "      <td>[((138, 114, 88, 76, 55, 23, 9, 1, 2, 20, 37, ...</td>\n",
       "      <td>4736815032434688</td>\n",
       "      <td>1</td>\n",
       "      <td>1489804928</td>\n",
       "      <td>2017-03-18 02:42:08</td>\n",
       "    </tr>\n",
       "    <tr>\n",
       "      <th>1</th>\n",
       "      <td>baseball</td>\n",
       "      <td>US</td>\n",
       "      <td>[((37, 37), (222, 222)), ((109, 104, 82, 49, 1...</td>\n",
       "      <td>5001461287092224</td>\n",
       "      <td>1</td>\n",
       "      <td>1490378866</td>\n",
       "      <td>2017-03-24 18:07:46</td>\n",
       "    </tr>\n",
       "    <tr>\n",
       "      <th>2</th>\n",
       "      <td>baseball</td>\n",
       "      <td>US</td>\n",
       "      <td>[((6, 34, 62, 106, 157, 199, 210, 221, 246, 25...</td>\n",
       "      <td>5154170313113600</td>\n",
       "      <td>1</td>\n",
       "      <td>1485542999</td>\n",
       "      <td>2017-01-27 18:49:59</td>\n",
       "    </tr>\n",
       "    <tr>\n",
       "      <th>3</th>\n",
       "      <td>baseball</td>\n",
       "      <td>CZ</td>\n",
       "      <td>[((54, 53, 76, 85, 105), (248, 237, 164, 125, ...</td>\n",
       "      <td>6739715099197440</td>\n",
       "      <td>0</td>\n",
       "      <td>1488369609</td>\n",
       "      <td>2017-03-01 12:00:09</td>\n",
       "    </tr>\n",
       "    <tr>\n",
       "      <th>4</th>\n",
       "      <td>baseball</td>\n",
       "      <td>US</td>\n",
       "      <td>[((205, 205), (154, 154)), ((169, 145, 116, 90...</td>\n",
       "      <td>4820868905566208</td>\n",
       "      <td>1</td>\n",
       "      <td>1485355211</td>\n",
       "      <td>2017-01-25 14:40:11</td>\n",
       "    </tr>\n",
       "  </tbody>\n",
       "</table>\n",
       "</div>"
      ],
      "text/plain": [
       "    concept countrycode                                              image  \\\n",
       "0  baseball          US  [((138, 114, 88, 76, 55, 23, 9, 1, 2, 20, 37, ...   \n",
       "1  baseball          US  [((37, 37), (222, 222)), ((109, 104, 82, 49, 1...   \n",
       "2  baseball          US  [((6, 34, 62, 106, 157, 199, 210, 221, 246, 25...   \n",
       "3  baseball          CZ  [((54, 53, 76, 85, 105), (248, 237, 164, 125, ...   \n",
       "4  baseball          US  [((205, 205), (154, 154)), ((169, 145, 116, 90...   \n",
       "\n",
       "             key_id  recognized   timestamp                date  \n",
       "0  4736815032434688           1  1489804928 2017-03-18 02:42:08  \n",
       "1  5001461287092224           1  1490378866 2017-03-24 18:07:46  \n",
       "2  5154170313113600           1  1485542999 2017-01-27 18:49:59  \n",
       "3  6739715099197440           0  1488369609 2017-03-01 12:00:09  \n",
       "4  4820868905566208           1  1485355211 2017-01-25 14:40:11  "
      ]
     },
     "execution_count": 351,
     "metadata": {},
     "output_type": "execute_result"
    }
   ],
   "source": [
    "df.head()"
   ]
  },
  {
   "cell_type": "markdown",
   "metadata": {},
   "source": [
    "### Percentage of unrecognized drawings by country"
   ]
  },
  {
   "cell_type": "code",
   "execution_count": 353,
   "metadata": {},
   "outputs": [
    {
     "data": {
      "text/plain": [
       "countrycode\n",
       "SA    14.979757\n",
       "KR     8.786611\n",
       "TH     8.623418\n",
       "HU     6.787330\n",
       "GB     5.308057\n",
       "PH     5.292259\n",
       "SE     5.032120\n",
       "DE     4.273769\n",
       "CZ     4.218985\n",
       "AU     3.968254\n",
       "PL     3.843730\n",
       "RO     3.636364\n",
       "FI     3.517824\n",
       "NL     3.366337\n",
       "IT     3.208812\n",
       "RU     3.057881\n",
       "US     2.978889\n",
       "CA     2.481542\n",
       "FR     2.424942\n",
       "BR     1.633987\n",
       "dtype: float64"
      ]
     },
     "execution_count": 353,
     "metadata": {},
     "output_type": "execute_result"
    }
   ],
   "source": [
    "(df[df['concept'] == 'canoe']\n",
    " .groupby('countrycode')\n",
    " .filter(lambda x: len(x) > 1000)\n",
    " .groupby('countrycode')\n",
    " .apply(lambda x: x[x['recognized'] == 0]['recognized'].count() / len(x) * 100)\n",
    " .sort_values(ascending=False))"
   ]
  },
  {
   "cell_type": "markdown",
   "metadata": {},
   "source": [
    "### What is the most unrecognized drawing?"
   ]
  },
  {
   "cell_type": "code",
   "execution_count": 354,
   "metadata": {},
   "outputs": [
    {
     "data": {
      "text/plain": [
       "concept\n",
       "golf club         11.271126\n",
       "hockey puck       10.790896\n",
       "tennis racquet     9.480816\n",
       "baseball bat       6.852491\n",
       "baseball           6.600923\n",
       "basketball         5.545881\n",
       "boomerang          4.990819\n",
       "soccer ball        4.874391\n",
       "rollerskates       4.045186\n",
       "canoe              3.772411\n",
       "bicycle            3.151106\n",
       "dtype: float64"
      ]
     },
     "execution_count": 354,
     "metadata": {},
     "output_type": "execute_result"
    }
   ],
   "source": [
    "(df.groupby('concept')\n",
    " .apply(lambda x: x[x['recognized'] == 0]['recognized'].count() / len(x) * 100)\n",
    " .sort_values(ascending=False))"
   ]
  },
  {
   "cell_type": "markdown",
   "metadata": {},
   "source": [
    "### Which country produces the most detailed drawings?"
   ]
  },
  {
   "cell_type": "code",
   "execution_count": 257,
   "metadata": {},
   "outputs": [
    {
     "data": {
      "text/plain": [
       "countrycode\n",
       "BF    20.000000\n",
       "AF    10.454545\n",
       "BJ     9.000000\n",
       "TJ     8.666667\n",
       "MM     8.493671\n",
       "dtype: float64"
      ]
     },
     "execution_count": 257,
     "metadata": {},
     "output_type": "execute_result"
    }
   ],
   "source": [
    "# The more strokes a drawing has, the more detailed it is\n",
    "(df.groupby('countrycode')\n",
    " .apply(lambda x: pd.Series([len(d) for d in x['image']]).mean())\n",
    " .sort_values(ascending=False)).head()"
   ]
  },
  {
   "cell_type": "markdown",
   "metadata": {},
   "source": [
    "### Comparison between US and Korea"
   ]
  },
  {
   "cell_type": "code",
   "execution_count": 242,
   "metadata": {},
   "outputs": [
    {
     "data": {
      "text/plain": [
       "<matplotlib.axes._subplots.AxesSubplot at 0x413b90dd8>"
      ]
     },
     "execution_count": 242,
     "metadata": {},
     "output_type": "execute_result"
    },
    {
     "data": {
      "image/png": "[encoded data removed]",
      "text/plain": [
       "<matplotlib.figure.Figure at 0x39f5e5e48>"
      ]
     },
     "metadata": {},
     "output_type": "display_data"
    }
   ],
   "source": [
    "ax = (df[df['countrycode'] == 'US'].groupby('concept')\n",
    " .apply(lambda x: x[x['recognized'] == 0]['recognized'].count() / len(x) * 100)\n",
    " .sort_values(ascending=False)).plot(kind='barh')\n",
    "(df[df['countrycode'] == 'KR'].groupby('concept')\n",
    " .apply(lambda x: x[x['recognized'] == 0]['recognized'].count() / len(x) * 100)\n",
    " .sort_values(ascending=False)).plot(kind='barh', ax=ax, alpha=0.4, color='red')"
   ]
  },
  {
   "cell_type": "markdown",
   "metadata": {},
   "source": [
    "### Number of drawings by country"
   ]
  },
  {
   "cell_type": "code",
   "execution_count": 169,
   "metadata": {},
   "outputs": [
    {
     "data": {
      "text/plain": [
       "US    54278\n",
       "GB     9145\n",
       "CA     4665\n",
       "DE     4276\n",
       "AU     3318\n",
       "RU     3138\n",
       "CZ     2497\n",
       "BR     2421\n",
       "SE     2329\n",
       "FI     2136\n",
       "IT     2024\n",
       "PL     1938\n",
       "FR     1865\n",
       "TH     1814\n",
       "HU     1669\n",
       "KR     1639\n",
       "PH     1605\n",
       "NL     1568\n",
       "SA     1377\n",
       "ID     1101\n",
       "SK     1024\n",
       "Name: countrycode, dtype: int64"
      ]
     },
     "execution_count": 169,
     "metadata": {},
     "output_type": "execute_result"
    }
   ],
   "source": [
    "(df[df['concept'] == 'crocodile']\n",
    " .groupby('countrycode')\n",
    " .filter(lambda x: x['countrycode'].count() > 1000)['countrycode']\n",
    " .value_counts())"
   ]
  },
  {
   "cell_type": "markdown",
   "metadata": {},
   "source": [
    "### Average number of lines for the current drawing"
   ]
  },
  {
   "cell_type": "code",
   "execution_count": 224,
   "metadata": {},
   "outputs": [
    {
     "data": {
      "text/plain": [
       "5.8416910013637109"
      ]
     },
     "execution_count": 224,
     "metadata": {},
     "output_type": "execute_result"
    }
   ],
   "source": [
    "# Average number of lines of the recognized drawings\n",
    "df[df['recognized'] == 1]['image'].apply(lambda x: len(x)).mean()"
   ]
  },
  {
   "cell_type": "code",
   "execution_count": 225,
   "metadata": {},
   "outputs": [
    {
     "data": {
      "text/plain": [
       "9.8970548897924253"
      ]
     },
     "execution_count": 225,
     "metadata": {},
     "output_type": "execute_result"
    }
   ],
   "source": [
    "# Average number of lines of the unrecognized drawings\n",
    "df[df['recognized'] == 0]['image'].apply(lambda x: len(x)).mean()"
   ]
  },
  {
   "cell_type": "code",
   "execution_count": 357,
   "metadata": {},
   "outputs": [
    {
     "data": {
      "text/plain": [
       "<matplotlib.axes._subplots.AxesSubplot at 0x4c4b08c88>"
      ]
     },
     "execution_count": 357,
     "metadata": {},
     "output_type": "execute_result"
    },
    {
     "data": {
      "image/png": "[encoded data removed]",
      "text/plain": [
       "<matplotlib.figure.Figure at 0x4c4b671d0>"
      ]
     },
     "metadata": {},
     "output_type": "display_data"
    }
   ],
   "source": [
    "# Recognized\n",
    "df[df['recognized'] == 1]['image'].apply(lambda x: len(x)).hist(bins=30)"
   ]
  },
  {
   "cell_type": "code",
   "execution_count": 358,
   "metadata": {},
   "outputs": [
    {
     "data": {
      "text/plain": [
       "<matplotlib.axes._subplots.AxesSubplot at 0x4c51ce4e0>"
      ]
     },
     "execution_count": 358,
     "metadata": {},
     "output_type": "execute_result"
    },
    {
     "data": {
      "image/png": "[encoded data removed]",
      "text/plain": [
       "<matplotlib.figure.Figure at 0x4c51e6128>"
      ]
     },
     "metadata": {},
     "output_type": "display_data"
    }
   ],
   "source": [
    "# Unrecognized\n",
    "df[df['recognized'] == 0]['image'].apply(lambda x: len(x)).hist(bins=30)"
   ]
  },
  {
   "cell_type": "code",
   "execution_count": 363,
   "metadata": {},
   "outputs": [
    {
     "data": {
      "text/plain": [
       "<matplotlib.axes._subplots.AxesSubplot at 0x61875d160>"
      ]
     },
     "execution_count": 363,
     "metadata": {},
     "output_type": "execute_result"
    },
    {
     "data": {
      "image/png": "[encoded data removed]",
      "text/plain": [
       "<matplotlib.figure.Figure at 0x618787be0>"
      ]
     },
     "metadata": {},
     "output_type": "display_data"
    }
   ],
   "source": [
    "df[(df['recognized'] == 1) & (df['countrycode'] == 'JP')]['image'].apply(lambda x: len(x)).hist(bins=20)"
   ]
  },
  {
   "cell_type": "code",
   "execution_count": 365,
   "metadata": {},
   "outputs": [
    {
     "data": {
      "text/plain": [
       "<matplotlib.axes._subplots.AxesSubplot at 0x6188f0710>"
      ]
     },
     "execution_count": 365,
     "metadata": {},
     "output_type": "execute_result"
    },
    {
     "data": {
      "image/png": "[encoded data removed]",
      "text/plain": [
       "<matplotlib.figure.Figure at 0x57fee2780>"
      ]
     },
     "metadata": {},
     "output_type": "display_data"
    }
   ],
   "source": [
    "df[(df['recognized'] == 1) & (df['countrycode'] == 'FR')]['image'].apply(lambda x: len(x)).hist(bins=20)"
   ]
  },
  {
   "cell_type": "code",
   "execution_count": 370,
   "metadata": {},
   "outputs": [
    {
     "ename": "KeyError",
     "evalue": "('image', 'occurred at index concept')",
     "output_type": "error",
     "traceback": [
      "\u001b[0;31m---------------------------------------------------------------------------\u001b[0m",
      "\u001b[0;31mTypeError\u001b[0m                                 Traceback (most recent call last)",
      "\u001b[0;32mpandas/_libs/index.pyx\u001b[0m in \u001b[0;36mpandas._libs.index.IndexEngine.get_loc (pandas/_libs/index.c:5126)\u001b[0;34m()\u001b[0m\n",
      "\u001b[0;32mpandas/_libs/hashtable_class_helper.pxi\u001b[0m in \u001b[0;36mpandas._libs.hashtable.Int64HashTable.get_item (pandas/_libs/hashtable.c:14010)\u001b[0;34m()\u001b[0m\n",
      "\u001b[0;31mTypeError\u001b[0m: an integer is required",
      "\nDuring handling of the above exception, another exception occurred:\n",
      "\u001b[0;31mKeyError\u001b[0m                                  Traceback (most recent call last)",
      "\u001b[0;32m<ipython-input-370-889487df657d>\u001b[0m in \u001b[0;36m<module>\u001b[0;34m()\u001b[0m\n\u001b[0;32m----> 1\u001b[0;31m \u001b[0mdf\u001b[0m\u001b[0;34m[\u001b[0m\u001b[0;34m(\u001b[0m\u001b[0mdf\u001b[0m\u001b[0;34m[\u001b[0m\u001b[0;34m'recognized'\u001b[0m\u001b[0;34m]\u001b[0m \u001b[0;34m==\u001b[0m \u001b[0;36m1\u001b[0m\u001b[0;34m)\u001b[0m \u001b[0;34m&\u001b[0m \u001b[0;34m(\u001b[0m\u001b[0mdf\u001b[0m\u001b[0;34m[\u001b[0m\u001b[0;34m'countrycode'\u001b[0m\u001b[0;34m]\u001b[0m \u001b[0;34m==\u001b[0m \u001b[0;34m'FR'\u001b[0m\u001b[0;34m)\u001b[0m\u001b[0;34m]\u001b[0m\u001b[0;34m.\u001b[0m\u001b[0mapply\u001b[0m\u001b[0;34m(\u001b[0m\u001b[0;32mlambda\u001b[0m \u001b[0mx\u001b[0m\u001b[0;34m:\u001b[0m \u001b[0mx\u001b[0m\u001b[0;34m[\u001b[0m\u001b[0;34m'image'\u001b[0m\u001b[0;34m]\u001b[0m\u001b[0;34m.\u001b[0m\u001b[0msum\u001b[0m\u001b[0;34m(\u001b[0m\u001b[0;34m)\u001b[0m\u001b[0;34m)\u001b[0m\u001b[0;34m.\u001b[0m\u001b[0mplot\u001b[0m\u001b[0;34m(\u001b[0m\u001b[0mkind\u001b[0m\u001b[0;34m=\u001b[0m\u001b[0;34m'scatter'\u001b[0m\u001b[0;34m)\u001b[0m\u001b[0;34m\u001b[0m\u001b[0m\n\u001b[0m",
      "\u001b[0;32m/usr/local/lib/python3.6/site-packages/pandas/core/frame.py\u001b[0m in \u001b[0;36mapply\u001b[0;34m(self, func, axis, broadcast, raw, reduce, args, **kwds)\u001b[0m\n\u001b[1;32m   4260\u001b[0m                         \u001b[0mf\u001b[0m\u001b[0;34m,\u001b[0m \u001b[0maxis\u001b[0m\u001b[0;34m,\u001b[0m\u001b[0;34m\u001b[0m\u001b[0m\n\u001b[1;32m   4261\u001b[0m                         \u001b[0mreduce\u001b[0m\u001b[0;34m=\u001b[0m\u001b[0mreduce\u001b[0m\u001b[0;34m,\u001b[0m\u001b[0;34m\u001b[0m\u001b[0m\n\u001b[0;32m-> 4262\u001b[0;31m                         ignore_failures=ignore_failures)\n\u001b[0m\u001b[1;32m   4263\u001b[0m             \u001b[0;32melse\u001b[0m\u001b[0;34m:\u001b[0m\u001b[0;34m\u001b[0m\u001b[0m\n\u001b[1;32m   4264\u001b[0m                 \u001b[0;32mreturn\u001b[0m \u001b[0mself\u001b[0m\u001b[0;34m.\u001b[0m\u001b[0m_apply_broadcast\u001b[0m\u001b[0;34m(\u001b[0m\u001b[0mf\u001b[0m\u001b[0;34m,\u001b[0m \u001b[0maxis\u001b[0m\u001b[0;34m)\u001b[0m\u001b[0;34m\u001b[0m\u001b[0m\n",
      "\u001b[0;32m/usr/local/lib/python3.6/site-packages/pandas/core/frame.py\u001b[0m in \u001b[0;36m_apply_standard\u001b[0;34m(self, func, axis, ignore_failures, reduce)\u001b[0m\n\u001b[1;32m   4356\u001b[0m             \u001b[0;32mtry\u001b[0m\u001b[0;34m:\u001b[0m\u001b[0;34m\u001b[0m\u001b[0m\n\u001b[1;32m   4357\u001b[0m                 \u001b[0;32mfor\u001b[0m \u001b[0mi\u001b[0m\u001b[0;34m,\u001b[0m \u001b[0mv\u001b[0m \u001b[0;32min\u001b[0m \u001b[0menumerate\u001b[0m\u001b[0;34m(\u001b[0m\u001b[0mseries_gen\u001b[0m\u001b[0;34m)\u001b[0m\u001b[0;34m:\u001b[0m\u001b[0;34m\u001b[0m\u001b[0m\n\u001b[0;32m-> 4358\u001b[0;31m                     \u001b[0mresults\u001b[0m\u001b[0;34m[\u001b[0m\u001b[0mi\u001b[0m\u001b[0;34m]\u001b[0m \u001b[0;34m=\u001b[0m \u001b[0mfunc\u001b[0m\u001b[0;34m(\u001b[0m\u001b[0mv\u001b[0m\u001b[0;34m)\u001b[0m\u001b[0;34m\u001b[0m\u001b[0m\n\u001b[0m\u001b[1;32m   4359\u001b[0m                     \u001b[0mkeys\u001b[0m\u001b[0;34m.\u001b[0m\u001b[0mappend\u001b[0m\u001b[0;34m(\u001b[0m\u001b[0mv\u001b[0m\u001b[0;34m.\u001b[0m\u001b[0mname\u001b[0m\u001b[0;34m)\u001b[0m\u001b[0;34m\u001b[0m\u001b[0m\n\u001b[1;32m   4360\u001b[0m             \u001b[0;32mexcept\u001b[0m \u001b[0mException\u001b[0m \u001b[0;32mas\u001b[0m \u001b[0me\u001b[0m\u001b[0;34m:\u001b[0m\u001b[0;34m\u001b[0m\u001b[0m\n",
      "\u001b[0;32m<ipython-input-370-889487df657d>\u001b[0m in \u001b[0;36m<lambda>\u001b[0;34m(x)\u001b[0m\n\u001b[0;32m----> 1\u001b[0;31m \u001b[0mdf\u001b[0m\u001b[0;34m[\u001b[0m\u001b[0;34m(\u001b[0m\u001b[0mdf\u001b[0m\u001b[0;34m[\u001b[0m\u001b[0;34m'recognized'\u001b[0m\u001b[0;34m]\u001b[0m \u001b[0;34m==\u001b[0m \u001b[0;36m1\u001b[0m\u001b[0;34m)\u001b[0m \u001b[0;34m&\u001b[0m \u001b[0;34m(\u001b[0m\u001b[0mdf\u001b[0m\u001b[0;34m[\u001b[0m\u001b[0;34m'countrycode'\u001b[0m\u001b[0;34m]\u001b[0m \u001b[0;34m==\u001b[0m \u001b[0;34m'FR'\u001b[0m\u001b[0;34m)\u001b[0m\u001b[0;34m]\u001b[0m\u001b[0;34m.\u001b[0m\u001b[0mapply\u001b[0m\u001b[0;34m(\u001b[0m\u001b[0;32mlambda\u001b[0m \u001b[0mx\u001b[0m\u001b[0;34m:\u001b[0m \u001b[0mx\u001b[0m\u001b[0;34m[\u001b[0m\u001b[0;34m'image'\u001b[0m\u001b[0;34m]\u001b[0m\u001b[0;34m.\u001b[0m\u001b[0msum\u001b[0m\u001b[0;34m(\u001b[0m\u001b[0;34m)\u001b[0m\u001b[0;34m)\u001b[0m\u001b[0;34m.\u001b[0m\u001b[0mplot\u001b[0m\u001b[0;34m(\u001b[0m\u001b[0mkind\u001b[0m\u001b[0;34m=\u001b[0m\u001b[0;34m'scatter'\u001b[0m\u001b[0;34m)\u001b[0m\u001b[0;34m\u001b[0m\u001b[0m\n\u001b[0m",
      "\u001b[0;32m/usr/local/lib/python3.6/site-packages/pandas/core/series.py\u001b[0m in \u001b[0;36m__getitem__\u001b[0;34m(self, key)\u001b[0m\n\u001b[1;32m    599\u001b[0m         \u001b[0mkey\u001b[0m \u001b[0;34m=\u001b[0m \u001b[0mcom\u001b[0m\u001b[0;34m.\u001b[0m\u001b[0m_apply_if_callable\u001b[0m\u001b[0;34m(\u001b[0m\u001b[0mkey\u001b[0m\u001b[0;34m,\u001b[0m \u001b[0mself\u001b[0m\u001b[0;34m)\u001b[0m\u001b[0;34m\u001b[0m\u001b[0m\n\u001b[1;32m    600\u001b[0m         \u001b[0;32mtry\u001b[0m\u001b[0;34m:\u001b[0m\u001b[0;34m\u001b[0m\u001b[0m\n\u001b[0;32m--> 601\u001b[0;31m             \u001b[0mresult\u001b[0m \u001b[0;34m=\u001b[0m \u001b[0mself\u001b[0m\u001b[0;34m.\u001b[0m\u001b[0mindex\u001b[0m\u001b[0;34m.\u001b[0m\u001b[0mget_value\u001b[0m\u001b[0;34m(\u001b[0m\u001b[0mself\u001b[0m\u001b[0;34m,\u001b[0m \u001b[0mkey\u001b[0m\u001b[0;34m)\u001b[0m\u001b[0;34m\u001b[0m\u001b[0m\n\u001b[0m\u001b[1;32m    602\u001b[0m \u001b[0;34m\u001b[0m\u001b[0m\n\u001b[1;32m    603\u001b[0m             \u001b[0;32mif\u001b[0m \u001b[0;32mnot\u001b[0m \u001b[0mis_scalar\u001b[0m\u001b[0;34m(\u001b[0m\u001b[0mresult\u001b[0m\u001b[0;34m)\u001b[0m\u001b[0;34m:\u001b[0m\u001b[0;34m\u001b[0m\u001b[0m\n",
      "\u001b[0;32m/usr/local/lib/python3.6/site-packages/pandas/core/indexes/base.py\u001b[0m in \u001b[0;36mget_value\u001b[0;34m(self, series, key)\u001b[0m\n\u001b[1;32m   2475\u001b[0m         \u001b[0;32mtry\u001b[0m\u001b[0;34m:\u001b[0m\u001b[0;34m\u001b[0m\u001b[0m\n\u001b[1;32m   2476\u001b[0m             return self._engine.get_value(s, k,\n\u001b[0;32m-> 2477\u001b[0;31m                                           tz=getattr(series.dtype, 'tz', None))\n\u001b[0m\u001b[1;32m   2478\u001b[0m         \u001b[0;32mexcept\u001b[0m \u001b[0mKeyError\u001b[0m \u001b[0;32mas\u001b[0m \u001b[0me1\u001b[0m\u001b[0;34m:\u001b[0m\u001b[0;34m\u001b[0m\u001b[0m\n\u001b[1;32m   2479\u001b[0m             \u001b[0;32mif\u001b[0m \u001b[0mlen\u001b[0m\u001b[0;34m(\u001b[0m\u001b[0mself\u001b[0m\u001b[0;34m)\u001b[0m \u001b[0;34m>\u001b[0m \u001b[0;36m0\u001b[0m \u001b[0;32mand\u001b[0m \u001b[0mself\u001b[0m\u001b[0;34m.\u001b[0m\u001b[0minferred_type\u001b[0m \u001b[0;32min\u001b[0m \u001b[0;34m[\u001b[0m\u001b[0;34m'integer'\u001b[0m\u001b[0;34m,\u001b[0m \u001b[0;34m'boolean'\u001b[0m\u001b[0;34m]\u001b[0m\u001b[0;34m:\u001b[0m\u001b[0;34m\u001b[0m\u001b[0m\n",
      "\u001b[0;32mpandas/_libs/index.pyx\u001b[0m in \u001b[0;36mpandas._libs.index.IndexEngine.get_value (pandas/_libs/index.c:4404)\u001b[0;34m()\u001b[0m\n",
      "\u001b[0;32mpandas/_libs/index.pyx\u001b[0m in \u001b[0;36mpandas._libs.index.IndexEngine.get_value (pandas/_libs/index.c:4087)\u001b[0;34m()\u001b[0m\n",
      "\u001b[0;32mpandas/_libs/index.pyx\u001b[0m in \u001b[0;36mpandas._libs.index.IndexEngine.get_loc (pandas/_libs/index.c:5210)\u001b[0;34m()\u001b[0m\n",
      "\u001b[0;31mKeyError\u001b[0m: ('image', 'occurred at index concept')"
     ]
    }
   ],
   "source": [
    "df[(df['recognized'] == 1) & (df['countrycode'] == 'FR')].apply(lambda x: x['image'].sum()).plot(kind='scatter')"
   ]
  },
  {
   "cell_type": "markdown",
   "metadata": {},
   "source": [
    "### Average complexity of the lines for the current drawing"
   ]
  },
  {
   "cell_type": "code",
   "execution_count": 311,
   "metadata": {
    "collapsed": true
   },
   "outputs": [],
   "source": [
    "# test only one concept otherwise it's too slow\n",
    "concept = 'dog'"
   ]
  },
  {
   "cell_type": "code",
   "execution_count": 312,
   "metadata": {},
   "outputs": [
    {
     "data": {
      "text/plain": [
       "12.166879725974832"
      ]
     },
     "execution_count": 312,
     "metadata": {},
     "output_type": "execute_result"
    }
   ],
   "source": [
    "# Average complexity of the lines in the recognized drawings\n",
    "(df[(df['recognized'] == 1) & (df['concept'] == concept)]\n",
    " ['image'].apply(lambda x: pd.Series([len(line[0]) for line in x]).mean())\n",
    " .mean())"
   ]
  },
  {
   "cell_type": "code",
   "execution_count": 313,
   "metadata": {},
   "outputs": [
    {
     "data": {
      "text/plain": [
       "10.653770300636392"
      ]
     },
     "execution_count": 313,
     "metadata": {},
     "output_type": "execute_result"
    }
   ],
   "source": [
    "# Average complexity of the lines in the unrecognized drawings\n",
    "(df[(df['recognized'] == 0) & (df['concept'] == concept)]\n",
    " ['image'].apply(lambda x: pd.Series([len(line[0]) for line in x]).mean())\n",
    " .mean())"
   ]
  },
  {
   "cell_type": "markdown",
   "metadata": {},
   "source": [
    "### Drawings with the lowest and highest number of lines"
   ]
  },
  {
   "cell_type": "code",
   "execution_count": 306,
   "metadata": {},
   "outputs": [
    {
     "name": "stdout",
     "output_type": "stream",
     "text": [
      "cat - IT\n"
     ]
    },
    {
     "data": {
      "image/png": "[encoded data removed]",
      "text/plain": [
       "<IPython.core.display.Image object>"
      ]
     },
     "execution_count": 306,
     "metadata": {},
     "output_type": "execute_result"
    }
   ],
   "source": [
    "# Lowest\n",
    "min_lines_index = df['image'].apply(lambda x: len(x)).idxmin()\n",
    "print(df.ix[min_lines_index]['concept'], \"-\", df.ix[min_lines_index]['countrycode'])\n",
    "draw_gd(min_lines_index)"
   ]
  },
  {
   "cell_type": "code",
   "execution_count": 307,
   "metadata": {},
   "outputs": [
    {
     "name": "stdout",
     "output_type": "stream",
     "text": [
      "crocodile - IT\n"
     ]
    },
    {
     "data": {
      "image/png": "[encoded data removed]",
      "text/plain": [
       "<IPython.core.display.Image object>"
      ]
     },
     "execution_count": 307,
     "metadata": {},
     "output_type": "execute_result"
    }
   ],
   "source": [
    "# Highest\n",
    "max_lines_index = df['image'].apply(lambda x: len(x)).idxmax()\n",
    "print(df.ix[max_lines_index]['concept'], \"-\", df.ix[min_lines_index]['countrycode'])\n",
    "draw_gd(max_lines_index)"
   ]
  },
  {
   "cell_type": "markdown",
   "metadata": {},
   "source": [
    "### Recognized drawings with the lowest and highest number of lines"
   ]
  },
  {
   "cell_type": "code",
   "execution_count": 329,
   "metadata": {
    "collapsed": true
   },
   "outputs": [],
   "source": [
    "concept = 'whale'"
   ]
  },
  {
   "cell_type": "code",
   "execution_count": 330,
   "metadata": {},
   "outputs": [
    {
     "name": "stdout",
     "output_type": "stream",
     "text": [
      "whale - NL\n"
     ]
    },
    {
     "data": {
      "image/png": "[encoded data removed]",
      "text/plain": [
       "<IPython.core.display.Image object>"
      ]
     },
     "execution_count": 330,
     "metadata": {},
     "output_type": "execute_result"
    }
   ],
   "source": [
    "# Lowest\n",
    "min_lines_index = (df[(df['recognized'] == 1) & (df['concept'] ==  concept)]\n",
    "['image'].apply(lambda x: len(x)).idxmin())\n",
    "print(df.ix[min_lines_index]['concept'], \"-\", df.ix[min_lines_index]['countrycode'])\n",
    "draw_gd(min_lines_index)"
   ]
  },
  {
   "cell_type": "code",
   "execution_count": 331,
   "metadata": {},
   "outputs": [
    {
     "name": "stdout",
     "output_type": "stream",
     "text": [
      "whale - FR\n"
     ]
    },
    {
     "data": {
      "image/png": "[encoded data removed]",
      "text/plain": [
       "<IPython.core.display.Image object>"
      ]
     },
     "execution_count": 331,
     "metadata": {},
     "output_type": "execute_result"
    }
   ],
   "source": [
    "# Highest\n",
    "min_lines_index = (df[(df['recognized'] == 1) & (df['concept'] == concept)]\n",
    "['image'].apply(lambda x: len(x)).idxmax())\n",
    "print(df.ix[min_lines_index]['concept'], \"-\", df.ix[min_lines_index]['countrycode'])\n",
    "draw_gd(min_lines_index)"
   ]
  },
  {
   "cell_type": "markdown",
   "metadata": {},
   "source": [
    "### Complexity of drawings"
   ]
  },
  {
   "cell_type": "code",
   "execution_count": 321,
   "metadata": {},
   "outputs": [
    {
     "name": "stdout",
     "output_type": "stream",
     "text": [
      "dog\n"
     ]
    },
    {
     "data": {
      "image/png": "[encoded data removed]",
      "text/plain": [
       "<IPython.core.display.Image object>"
      ]
     },
     "execution_count": 321,
     "metadata": {},
     "output_type": "execute_result"
    }
   ],
   "source": [
    "# Simplest\n",
    "min_complex_index = (df[df['concept'] == concept]\n",
    " ['image'].apply(lambda x: pd.Series([len(line[0]) for line in x]).mean())\n",
    " .idxmin())\n",
    "print(df.ix[min_complex_index]['concept'])\n",
    "draw_gd(min_complex_index)"
   ]
  },
  {
   "cell_type": "code",
   "execution_count": 316,
   "metadata": {},
   "outputs": [
    {
     "name": "stdout",
     "output_type": "stream",
     "text": [
      "dog\n"
     ]
    },
    {
     "data": {
      "image/png": "[encoded data removed]",
      "text/plain": [
       "<IPython.core.display.Image object>"
      ]
     },
     "execution_count": 316,
     "metadata": {},
     "output_type": "execute_result"
    }
   ],
   "source": [
    "# most complex\n",
    "max_complex_index = (df[df['concept'] == concept]\n",
    " ['image'].apply(lambda x: pd.Series([len(line[0]) for line in x]).mean())\n",
    " .idxmax())\n",
    "print(df.ix[max_complex_index]['concept'])\n",
    "draw_gd(max_complex_index)"
   ]
  },
  {
   "cell_type": "markdown",
   "metadata": {},
   "source": [
    "### Complexity of recognized drawings"
   ]
  },
  {
   "cell_type": "code",
   "execution_count": 322,
   "metadata": {},
   "outputs": [
    {
     "name": "stdout",
     "output_type": "stream",
     "text": [
      "dog\n"
     ]
    },
    {
     "data": {
      "image/png": "[encoded data removed]",
      "text/plain": [
       "<IPython.core.display.Image object>"
      ]
     },
     "execution_count": 322,
     "metadata": {},
     "output_type": "execute_result"
    }
   ],
   "source": [
    "# Simplest\n",
    "min_complex_index = (df[(df['recognized'] == 1) & (df['concept'] == concept)]\n",
    " ['image'].apply(lambda x: pd.Series([len(line[0]) for line in x]).mean())\n",
    " .idxmin())\n",
    "print(df.ix[min_complex_index]['concept'])\n",
    "draw_gd(min_complex_index)"
   ]
  },
  {
   "cell_type": "code",
   "execution_count": 323,
   "metadata": {},
   "outputs": [
    {
     "name": "stdout",
     "output_type": "stream",
     "text": [
      "dog\n"
     ]
    },
    {
     "data": {
      "image/png": "[encoded data removed]",
      "text/plain": [
       "<IPython.core.display.Image object>"
      ]
     },
     "execution_count": 323,
     "metadata": {},
     "output_type": "execute_result"
    }
   ],
   "source": [
    "# Most complex\n",
    "max_complex_index = (df[(df['recognized'] == 1) & (df['concept'] == concept)]\n",
    " ['image'].apply(lambda x: pd.Series([len(line[0]) for line in x]).mean())\n",
    " .idxmax())\n",
    "print(df.ix[max_complex_index]['concept'])\n",
    "draw_gd(max_complex_index)"
   ]
  },
  {
   "cell_type": "markdown",
   "metadata": {},
   "source": [
    "### Evolution of the percentage of unrecognized drawings"
   ]
  },
  {
   "cell_type": "code",
   "execution_count": 100,
   "metadata": {},
   "outputs": [
    {
     "data": {
      "image/png": "[encoded data removed]",
      "text/plain": [
       "<matplotlib.figure.Figure at 0x12c702f98>"
      ]
     },
     "metadata": {},
     "output_type": "display_data"
    }
   ],
   "source": [
    "ax = (df.groupby(by=df['date'].dt.date)\n",
    "      .apply(lambda x: x[x['recognized'] == 0].count() / len(x))\n",
    "      .plot(y='date'))\n",
    "fig = plt.setp(ax.get_xticklabels(), rotation=30, horizontalalignment='right')"
   ]
  },
  {
   "cell_type": "code",
   "execution_count": null,
   "metadata": {
    "collapsed": true
   },
   "outputs": [],
   "source": []
  }
 ],
 "metadata": {
  "kernelspec": {
   "display_name": "Python 3",
   "language": "python",
   "name": "python3"
  },
  "language_info": {
   "codemirror_mode": {
    "name": "ipython",
    "version": 3
   },
   "file_extension": ".py",
   "mimetype": "text/x-python",
   "name": "python",
   "nbconvert_exporter": "python",
   "pygments_lexer": "ipython3",
   "version": "3.6.1"
  }
 },
 "nbformat": 4,
 "nbformat_minor": 2
}
