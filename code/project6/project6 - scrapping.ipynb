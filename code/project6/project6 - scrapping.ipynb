{
 "cells": [
  {
   "cell_type": "code",
   "execution_count": 97,
   "metadata": {},
   "outputs": [],
   "source": [
    "import re\n",
    "import pandas as pd\n",
    "from urllib.request import urlopen\n",
    "from bs4 import BeautifulSoup"
   ]
  },
  {
   "cell_type": "code",
   "execution_count": 98,
   "metadata": {
    "collapsed": true
   },
   "outputs": [],
   "source": [
    "raw_html = urlopen(\"http://www.dreambank.net/random_sample.cgi?min=0&max=99999&n=99999\").read()\n",
    "soup_doc = BeautifulSoup(raw_html, \"html.parser\")"
   ]
  },
  {
   "cell_type": "code",
   "execution_count": 99,
   "metadata": {},
   "outputs": [
    {
     "data": {
      "text/html": [
       "<div>\n",
       "<style>\n",
       "    .dataframe thead tr:only-child th {\n",
       "        text-align: right;\n",
       "    }\n",
       "\n",
       "    .dataframe thead th {\n",
       "        text-align: left;\n",
       "    }\n",
       "\n",
       "    .dataframe tbody tr th {\n",
       "        vertical-align: top;\n",
       "    }\n",
       "</style>\n",
       "<table border=\"1\" class=\"dataframe\">\n",
       "  <thead>\n",
       "    <tr style=\"text-align: right;\">\n",
       "      <th></th>\n",
       "      <th>description</th>\n",
       "      <th>id</th>\n",
       "      <th>name</th>\n",
       "      <th>number_of_dreams</th>\n",
       "    </tr>\n",
       "  </thead>\n",
       "  <tbody>\n",
       "    <tr>\n",
       "      <th>0</th>\n",
       "      <td>a detailed dreamer</td>\n",
       "      <td>alta</td>\n",
       "      <td>Alta</td>\n",
       "      <td>422</td>\n",
       "    </tr>\n",
       "    <tr>\n",
       "      <th>1</th>\n",
       "      <td>age 18 &amp; 20</td>\n",
       "      <td>angie</td>\n",
       "      <td>Angie</td>\n",
       "      <td>48</td>\n",
       "    </tr>\n",
       "    <tr>\n",
       "      <th>2</th>\n",
       "      <td>a middle-aged woman</td>\n",
       "      <td>arlie</td>\n",
       "      <td>Arlie</td>\n",
       "      <td>212</td>\n",
       "    </tr>\n",
       "    <tr>\n",
       "      <th>3</th>\n",
       "      <td>NaN</td>\n",
       "      <td>b</td>\n",
       "      <td>Barb Sanders</td>\n",
       "      <td>3116</td>\n",
       "    </tr>\n",
       "    <tr>\n",
       "      <th>4</th>\n",
       "      <td>NaN</td>\n",
       "      <td>b2</td>\n",
       "      <td>Barb Sanders #2</td>\n",
       "      <td>1138</td>\n",
       "    </tr>\n",
       "  </tbody>\n",
       "</table>\n",
       "</div>"
      ],
      "text/plain": [
       "            description     id              name  number_of_dreams\n",
       "0   a detailed dreamer    alta              Alta               422\n",
       "1          age 18 & 20   angie             Angie                48\n",
       "2  a middle-aged woman   arlie             Arlie               212\n",
       "3                   NaN      b     Barb Sanders               3116\n",
       "4                   NaN     b2  Barb Sanders #2               1138"
      ]
     },
     "execution_count": 99,
     "metadata": {},
     "output_type": "execute_result"
    }
   ],
   "source": [
    "dreamers = []\n",
    "\n",
    "for o in soup_doc.find_all('option'):\n",
    "    \n",
    "    \n",
    "    if len(o.text.split(':')) > 1:\n",
    "        desc = o.text.split(':')[1][1:].split('[n=')[0].replace(']', '')\n",
    "    else:\n",
    "        desc = \"NaN\"\n",
    "    \n",
    "    name = o.text.split(':')[0].split('[n=')[0]\n",
    "    number_of_dreams = int(o.text.split('[n=')[1].replace(']', ''))\n",
    "    \n",
    "    dreamers.append({\n",
    "        'name': name,\n",
    "        'description': desc,\n",
    "        'id': o['value'],\n",
    "        'number_of_dreams': number_of_dreams\n",
    "    })\n",
    "\n",
    "dreamers = pd.DataFrame(dreamers)\n",
    "dreamers.head()"
   ]
  },
  {
   "cell_type": "code",
   "execution_count": 100,
   "metadata": {},
   "outputs": [],
   "source": [
    "german_dreamers = [\n",
    "    'german-f.de',\n",
    "    'german-m.de',\n",
    "    'zurich-f.de',\n",
    "    'zurich-m.de',\n",
    "    'vonuslar.de'\n",
    "]\n",
    "\n",
    "dreamers = dreamers[~dreamers['id'].isin(german_dreamers)]"
   ]
  },
  {
   "cell_type": "code",
   "execution_count": 101,
   "metadata": {},
   "outputs": [
    {
     "data": {
      "text/html": [
       "<div>\n",
       "<style>\n",
       "    .dataframe thead tr:only-child th {\n",
       "        text-align: right;\n",
       "    }\n",
       "\n",
       "    .dataframe thead th {\n",
       "        text-align: left;\n",
       "    }\n",
       "\n",
       "    .dataframe tbody tr th {\n",
       "        vertical-align: top;\n",
       "    }\n",
       "</style>\n",
       "<table border=\"1\" class=\"dataframe\">\n",
       "  <thead>\n",
       "    <tr style=\"text-align: right;\">\n",
       "      <th></th>\n",
       "      <th>content</th>\n",
       "      <th>description</th>\n",
       "      <th>id</th>\n",
       "      <th>name</th>\n",
       "      <th>number_of_dreams</th>\n",
       "    </tr>\n",
       "  </thead>\n",
       "  <tbody>\n",
       "    <tr>\n",
       "      <th>0</th>\n",
       "      <td>\\n#1 (1957)The one at the Meads's house, where...</td>\n",
       "      <td>a detailed dreamer</td>\n",
       "      <td>alta</td>\n",
       "      <td>Alta</td>\n",
       "      <td>422</td>\n",
       "    </tr>\n",
       "    <tr>\n",
       "      <th>1</th>\n",
       "      <td>\\n#2 (8/11/67)I'm at a family reunion in a lar...</td>\n",
       "      <td>a detailed dreamer</td>\n",
       "      <td>alta</td>\n",
       "      <td>Alta</td>\n",
       "      <td>422</td>\n",
       "    </tr>\n",
       "    <tr>\n",
       "      <th>2</th>\n",
       "      <td>\\n#3 (8/1/85)I watch a plane fly past and shor...</td>\n",
       "      <td>a detailed dreamer</td>\n",
       "      <td>alta</td>\n",
       "      <td>Alta</td>\n",
       "      <td>422</td>\n",
       "    </tr>\n",
       "    <tr>\n",
       "      <th>3</th>\n",
       "      <td>\\n#4 (1985?)Me pulling the green leaves and be...</td>\n",
       "      <td>a detailed dreamer</td>\n",
       "      <td>alta</td>\n",
       "      <td>Alta</td>\n",
       "      <td>422</td>\n",
       "    </tr>\n",
       "    <tr>\n",
       "      <th>4</th>\n",
       "      <td>\\n#5 (1985?)I'm in a room that reminds me of (...</td>\n",
       "      <td>a detailed dreamer</td>\n",
       "      <td>alta</td>\n",
       "      <td>Alta</td>\n",
       "      <td>422</td>\n",
       "    </tr>\n",
       "  </tbody>\n",
       "</table>\n",
       "</div>"
      ],
      "text/plain": [
       "                                             content          description  \\\n",
       "0  \\n#1 (1957)The one at the Meads's house, where...  a detailed dreamer    \n",
       "1  \\n#2 (8/11/67)I'm at a family reunion in a lar...  a detailed dreamer    \n",
       "2  \\n#3 (8/1/85)I watch a plane fly past and shor...  a detailed dreamer    \n",
       "3  \\n#4 (1985?)Me pulling the green leaves and be...  a detailed dreamer    \n",
       "4  \\n#5 (1985?)I'm in a room that reminds me of (...  a detailed dreamer    \n",
       "\n",
       "     id  name  number_of_dreams  \n",
       "0  alta  Alta               422  \n",
       "1  alta  Alta               422  \n",
       "2  alta  Alta               422  \n",
       "3  alta  Alta               422  \n",
       "4  alta  Alta               422  "
      ]
     },
     "execution_count": 101,
     "metadata": {},
     "output_type": "execute_result"
    }
   ],
   "source": [
    "dreams = []\n",
    "\n",
    "for index, dreamer in dreamers.iterrows():\n",
    "    raw_html = urlopen(\"http://www.dreambank.net/random_sample.cgi?series=\"\n",
    "                       +dreamer['id']+\"&min=0&max=9000&n=99999\").read()\n",
    "    soup_doc = BeautifulSoup(raw_html, \"html.parser\")\n",
    "    \n",
    "    for d in soup_doc.find_all('span'):\n",
    "        dream = {\n",
    "            'content': d.text\n",
    "        }\n",
    "        dream.update(dreamer)\n",
    "        dreams.append(dream)\n",
    "        \n",
    "dreams = pd.DataFrame(dreams)\n",
    "dreams.head()"
   ]
  },
  {
   "cell_type": "code",
   "execution_count": 102,
   "metadata": {},
   "outputs": [],
   "source": [
    "dreams.drop(['number_of_dreams', 'description', 'name'], axis=1, inplace=True)"
   ]
  },
  {
   "cell_type": "code",
   "execution_count": 103,
   "metadata": {},
   "outputs": [
    {
     "data": {
      "text/html": [
       "<div>\n",
       "<style>\n",
       "    .dataframe thead tr:only-child th {\n",
       "        text-align: right;\n",
       "    }\n",
       "\n",
       "    .dataframe thead th {\n",
       "        text-align: left;\n",
       "    }\n",
       "\n",
       "    .dataframe tbody tr th {\n",
       "        vertical-align: top;\n",
       "    }\n",
       "</style>\n",
       "<table border=\"1\" class=\"dataframe\">\n",
       "  <thead>\n",
       "    <tr style=\"text-align: right;\">\n",
       "      <th></th>\n",
       "      <th>content</th>\n",
       "      <th>id</th>\n",
       "    </tr>\n",
       "  </thead>\n",
       "  <tbody>\n",
       "    <tr>\n",
       "      <th>0</th>\n",
       "      <td>\\n#1 (1957)The one at the Meads's house, where...</td>\n",
       "      <td>alta</td>\n",
       "    </tr>\n",
       "    <tr>\n",
       "      <th>1</th>\n",
       "      <td>\\n#2 (8/11/67)I'm at a family reunion in a lar...</td>\n",
       "      <td>alta</td>\n",
       "    </tr>\n",
       "    <tr>\n",
       "      <th>2</th>\n",
       "      <td>\\n#3 (8/1/85)I watch a plane fly past and shor...</td>\n",
       "      <td>alta</td>\n",
       "    </tr>\n",
       "    <tr>\n",
       "      <th>3</th>\n",
       "      <td>\\n#4 (1985?)Me pulling the green leaves and be...</td>\n",
       "      <td>alta</td>\n",
       "    </tr>\n",
       "    <tr>\n",
       "      <th>4</th>\n",
       "      <td>\\n#5 (1985?)I'm in a room that reminds me of (...</td>\n",
       "      <td>alta</td>\n",
       "    </tr>\n",
       "  </tbody>\n",
       "</table>\n",
       "</div>"
      ],
      "text/plain": [
       "                                             content    id\n",
       "0  \\n#1 (1957)The one at the Meads's house, where...  alta\n",
       "1  \\n#2 (8/11/67)I'm at a family reunion in a lar...  alta\n",
       "2  \\n#3 (8/1/85)I watch a plane fly past and shor...  alta\n",
       "3  \\n#4 (1985?)Me pulling the green leaves and be...  alta\n",
       "4  \\n#5 (1985?)I'm in a room that reminds me of (...  alta"
      ]
     },
     "execution_count": 103,
     "metadata": {},
     "output_type": "execute_result"
    }
   ],
   "source": [
    "dreams.head()"
   ]
  },
  {
   "cell_type": "code",
   "execution_count": 105,
   "metadata": {
    "collapsed": true
   },
   "outputs": [],
   "source": [
    "dreams.to_csv('dreams.csv', index=False)"
   ]
  },
  {
   "cell_type": "code",
   "execution_count": null,
   "metadata": {
    "collapsed": true
   },
   "outputs": [],
   "source": []
  }
 ],
 "metadata": {
  "kernelspec": {
   "display_name": "Python 3",
   "language": "python",
   "name": "python3"
  },
  "language_info": {
   "codemirror_mode": {
    "name": "ipython",
    "version": 3
   },
   "file_extension": ".py",
   "mimetype": "text/x-python",
   "name": "python",
   "nbconvert_exporter": "python",
   "pygments_lexer": "ipython3",
   "version": "3.6.1"
  }
 },
 "nbformat": 4,
 "nbformat_minor": 2
}
