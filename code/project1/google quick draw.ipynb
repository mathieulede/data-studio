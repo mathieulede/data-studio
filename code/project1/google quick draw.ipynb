{
 "cells": [
  {
   "cell_type": "code",
   "execution_count": 3,
   "metadata": {
    "collapsed": true
   },
   "outputs": [],
   "source": [
    "import numpy as np\n",
    "import requests\n",
    "import pandas as pd"
   ]
  },
  {
   "cell_type": "code",
   "execution_count": 2,
   "metadata": {},
   "outputs": [
    {
     "data": {
      "text/plain": [
       "array([[0, 0, 0, ..., 0, 0, 0],\n",
       "       [0, 0, 0, ..., 0, 0, 0],\n",
       "       [0, 0, 0, ..., 0, 0, 0],\n",
       "       ..., \n",
       "       [0, 0, 0, ..., 0, 0, 0],\n",
       "       [0, 0, 0, ..., 0, 0, 0],\n",
       "       [0, 0, 0, ..., 0, 0, 0]], dtype=uint8)"
      ]
     },
     "execution_count": 2,
     "metadata": {},
     "output_type": "execute_result"
    }
   ],
   "source": [
    "np.load('rainbow.npy')"
   ]
  },
  {
   "cell_type": "code",
   "execution_count": 8,
   "metadata": {},
   "outputs": [],
   "source": [
    "df = pd.read_json('apple.ndjson', lines=True)"
   ]
  },
  {
   "cell_type": "code",
   "execution_count": 9,
   "metadata": {
    "collapsed": true
   },
   "outputs": [],
   "source": [
    "df_unrecognized = df[df['recognized'] == False]"
   ]
  },
  {
   "cell_type": "code",
   "execution_count": 23,
   "metadata": {},
   "outputs": [
    {
     "data": {
      "text/plain": [
       "US    2480\n",
       "GB     384\n",
       "CA     166\n",
       "KR     123\n",
       "SA     123\n",
       "Name: countrycode, dtype: int64"
      ]
     },
     "execution_count": 23,
     "metadata": {},
     "output_type": "execute_result"
    }
   ],
   "source": [
    "df_unrecognized['countrycode'].value_counts().head()"
   ]
  },
  {
   "cell_type": "code",
   "execution_count": 45,
   "metadata": {},
   "outputs": [
    {
     "data": {
      "text/plain": [
       "US    2480\n",
       "GB     384\n",
       "CA     166\n",
       "SA     123\n",
       "KR     123\n",
       "AU     100\n",
       "RU      89\n",
       "DE      81\n",
       "SE      73\n",
       "PH      65\n",
       "FI      56\n",
       "CZ      54\n",
       "IT      52\n",
       "TW      48\n",
       "FR      45\n",
       "PL      45\n",
       "TH      41\n",
       "ID      41\n",
       "AE      40\n",
       "BR      40\n",
       "IE      31\n",
       "HU      31\n",
       "RO      31\n",
       "NL      28\n",
       "IN      26\n",
       "NZ      23\n",
       "VN      22\n",
       "JP      21\n",
       "BG      21\n",
       "MY      21\n",
       "Name: countrycode, dtype: int64"
      ]
     },
     "execution_count": 45,
     "metadata": {},
     "output_type": "execute_result"
    }
   ],
   "source": [
    "(df_unrecognized.groupby('countrycode')\n",
    " .filter(lambda x: x['countrycode'].count() > 20)['countrycode']\n",
    " .value_counts())"
   ]
  },
  {
   "cell_type": "code",
   "execution_count": 48,
   "metadata": {},
   "outputs": [
    {
     "data": {
      "text/plain": [
       "510"
      ]
     },
     "execution_count": 48,
     "metadata": {},
     "output_type": "execute_result"
    }
   ],
   "source": [
    "len(df[df['countrycode'] == 'CH'])"
   ]
  },
  {
   "cell_type": "code",
   "execution_count": 51,
   "metadata": {},
   "outputs": [
    {
     "data": {
      "text/plain": [
       "[[[675], [158], [0]],\n",
       " [[675, 675], [158, 158], [185, 189]],\n",
       " [[675, 675], [158, 158], [221, 232]],\n",
       " [[675, 674], [158, 159], [257, 1018]],\n",
       " [[480,\n",
       "   474,\n",
       "   468,\n",
       "   453,\n",
       "   431,\n",
       "   407,\n",
       "   383,\n",
       "   357,\n",
       "   333,\n",
       "   310,\n",
       "   291,\n",
       "   280,\n",
       "   275,\n",
       "   275,\n",
       "   283,\n",
       "   299,\n",
       "   324,\n",
       "   353,\n",
       "   382,\n",
       "   409,\n",
       "   434,\n",
       "   456,\n",
       "   473,\n",
       "   486,\n",
       "   490,\n",
       "   486,\n",
       "   466,\n",
       "   441,\n",
       "   441],\n",
       "  [237,\n",
       "   223,\n",
       "   218,\n",
       "   219,\n",
       "   227,\n",
       "   238,\n",
       "   251,\n",
       "   272,\n",
       "   297,\n",
       "   325,\n",
       "   358,\n",
       "   393,\n",
       "   427,\n",
       "   462,\n",
       "   497,\n",
       "   523,\n",
       "   541,\n",
       "   549,\n",
       "   549,\n",
       "   536,\n",
       "   511,\n",
       "   477,\n",
       "   432,\n",
       "   384,\n",
       "   337,\n",
       "   295,\n",
       "   259,\n",
       "   229,\n",
       "   229],\n",
       "  [5195,\n",
       "   5216,\n",
       "   5258,\n",
       "   5284,\n",
       "   5299,\n",
       "   5315,\n",
       "   5333,\n",
       "   5351,\n",
       "   5366,\n",
       "   5383,\n",
       "   5400,\n",
       "   5417,\n",
       "   5433,\n",
       "   5450,\n",
       "   5467,\n",
       "   5484,\n",
       "   5501,\n",
       "   5516,\n",
       "   5534,\n",
       "   5550,\n",
       "   5566,\n",
       "   5586,\n",
       "   5613,\n",
       "   5616,\n",
       "   5642,\n",
       "   5654,\n",
       "   5664,\n",
       "   5681,\n",
       "   5698]],\n",
       " [[407,\n",
       "   402,\n",
       "   396,\n",
       "   396,\n",
       "   402,\n",
       "   412,\n",
       "   421,\n",
       "   431,\n",
       "   444,\n",
       "   457,\n",
       "   468,\n",
       "   480,\n",
       "   491,\n",
       "   504,\n",
       "   516,\n",
       "   527,\n",
       "   536,\n",
       "   543,\n",
       "   549,\n",
       "   554,\n",
       "   559,\n",
       "   557],\n",
       "  [310,\n",
       "   307,\n",
       "   292,\n",
       "   270,\n",
       "   238,\n",
       "   212,\n",
       "   198,\n",
       "   186,\n",
       "   176,\n",
       "   169,\n",
       "   164,\n",
       "   161,\n",
       "   159,\n",
       "   159,\n",
       "   159,\n",
       "   161,\n",
       "   164,\n",
       "   167,\n",
       "   170,\n",
       "   173,\n",
       "   179,\n",
       "   177],\n",
       "  [5865,\n",
       "   5883,\n",
       "   5916,\n",
       "   5933,\n",
       "   5951,\n",
       "   5967,\n",
       "   5988,\n",
       "   5998,\n",
       "   6015,\n",
       "   6043,\n",
       "   6054,\n",
       "   6070,\n",
       "   6084,\n",
       "   6097,\n",
       "   6114,\n",
       "   6133,\n",
       "   6150,\n",
       "   6166,\n",
       "   6192,\n",
       "   6200,\n",
       "   6234,\n",
       "   6403]]]"
      ]
     },
     "execution_count": 51,
     "metadata": {},
     "output_type": "execute_result"
    }
   ],
   "source": [
    "df_unrecognized.ix[0]['drawing']"
   ]
  },
  {
   "cell_type": "code",
   "execution_count": null,
   "metadata": {
    "collapsed": true
   },
   "outputs": [],
   "source": []
  }
 ],
 "metadata": {
  "kernelspec": {
   "display_name": "Python 3",
   "language": "python",
   "name": "python3"
  },
  "language_info": {
   "codemirror_mode": {
    "name": "ipython",
    "version": 3
   },
   "file_extension": ".py",
   "mimetype": "text/x-python",
   "name": "python",
   "nbconvert_exporter": "python",
   "pygments_lexer": "ipython3",
   "version": "3.6.1"
  }
 },
 "nbformat": 4,
 "nbformat_minor": 2
}
